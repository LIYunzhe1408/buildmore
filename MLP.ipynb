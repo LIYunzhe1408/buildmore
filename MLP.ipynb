{
 "cells": [
  {
   "cell_type": "markdown",
   "id": "ba5b6988",
   "metadata": {},
   "source": [
    "We currently have a model that can deal with one character of previous context. But the precition was not good enough.\n",
    "\n",
    "* More context? way too many rows => expensive to calculate\n",
    "* MLP"
   ]
  },
  {
   "cell_type": "code",
   "execution_count": 2,
   "id": "f3886184",
   "metadata": {},
   "outputs": [],
   "source": [
    "import torch\n",
    "import torch.nn.functional as F"
   ]
  },
  {
   "cell_type": "markdown",
   "id": "9b61fff8",
   "metadata": {},
   "source": [
    "# Data"
   ]
  },
  {
   "cell_type": "code",
   "execution_count": 3,
   "id": "159617fd",
   "metadata": {},
   "outputs": [
    {
     "data": {
      "text/plain": [
       "['emma',\n",
       " 'olivia',\n",
       " 'ava',\n",
       " 'isabella',\n",
       " 'sophia',\n",
       " 'charlotte',\n",
       " 'mia',\n",
       " 'amelia',\n",
       " 'harper',\n",
       " 'evelyn']"
      ]
     },
     "execution_count": 3,
     "metadata": {},
     "output_type": "execute_result"
    }
   ],
   "source": [
    "names = open(\"names.txt\").read().splitlines()\n",
    "names[:10]"
   ]
  },
  {
   "cell_type": "code",
   "execution_count": 4,
   "id": "bce38bd5",
   "metadata": {},
   "outputs": [
    {
     "data": {
      "text/plain": [
       "27"
      ]
     },
     "execution_count": 4,
     "metadata": {},
     "output_type": "execute_result"
    }
   ],
   "source": [
    "vocab = sorted(set(''.join(names)))\n",
    "vocab = [\".\"] + vocab\n",
    "len(vocab)"
   ]
  },
  {
   "cell_type": "code",
   "execution_count": 5,
   "id": "4beb322c",
   "metadata": {},
   "outputs": [],
   "source": [
    "stoi = {s:i for i, s in enumerate(vocab)}\n",
    "itos = {i:s for s, i in stoi.items()}"
   ]
  },
  {
   "cell_type": "code",
   "execution_count": 6,
   "id": "69491400",
   "metadata": {},
   "outputs": [
    {
     "name": "stdout",
     "output_type": "stream",
     "text": [
      "emma\n",
      "..... -------> e\n",
      "....e -------> m\n",
      "...em -------> m\n",
      "..emm -------> a\n",
      ".emma -------> .\n",
      "olivia\n",
      "..... -------> o\n",
      "....o -------> l\n",
      "...ol -------> i\n",
      "..oli -------> v\n",
      ".oliv -------> i\n",
      "olivi -------> a\n",
      "livia -------> .\n",
      "ava\n",
      "..... -------> a\n",
      "....a -------> v\n",
      "...av -------> a\n",
      "..ava -------> .\n",
      "isabella\n",
      "..... -------> i\n",
      "....i -------> s\n",
      "...is -------> a\n",
      "..isa -------> b\n",
      ".isab -------> e\n",
      "isabe -------> l\n",
      "sabel -------> l\n",
      "abell -------> a\n",
      "bella -------> .\n",
      "sophia\n",
      "..... -------> s\n",
      "....s -------> o\n",
      "...so -------> p\n",
      "..sop -------> h\n",
      ".soph -------> i\n",
      "sophi -------> a\n",
      "ophia -------> .\n"
     ]
    }
   ],
   "source": [
    "block_size = 5 # context length\n",
    "xs, ys = [], []\n",
    "\n",
    "for name in names[:5]:\n",
    "    context = [0] * block_size\n",
    "    print(name)\n",
    "    for ch in name+\".\":\n",
    "        idx = stoi[ch]\n",
    "        xs.append(context)\n",
    "        ys.append(idx)\n",
    "        print(f\"{''.join([itos[i] for i in context])} -------> {itos[idx]}\")\n",
    "        context = context[1:] + [idx]\n",
    "xs, ys = torch.tensor(xs), torch.tensor(ys)"
   ]
  },
  {
   "cell_type": "code",
   "execution_count": 7,
   "id": "ceaa509f",
   "metadata": {},
   "outputs": [
    {
     "data": {
      "text/plain": [
       "(torch.Size([32, 5]), torch.int64, torch.Size([32]), torch.int64)"
      ]
     },
     "execution_count": 7,
     "metadata": {},
     "output_type": "execute_result"
    }
   ],
   "source": [
    "xs.shape, xs.dtype, ys.shape, ys.dtype"
   ]
  },
  {
   "cell_type": "markdown",
   "id": "58e8d8c4",
   "metadata": {},
   "source": [
    "# Embedding"
   ]
  },
  {
   "cell_type": "markdown",
   "id": "dbef8cff",
   "metadata": {},
   "source": [
    "Our vocab size is 27 and we want to map them into 2-D space. In original paper from Bengio, they have 17,000 words and then map them into 30-D space."
   ]
  },
  {
   "cell_type": "code",
   "execution_count": 8,
   "id": "bfbe7142",
   "metadata": {},
   "outputs": [
    {
     "data": {
      "text/plain": [
       "tensor([[-0.9003,  0.4254],\n",
       "        [ 0.1871, -0.2595],\n",
       "        [-0.2032,  0.4650],\n",
       "        [-0.3530,  0.5689],\n",
       "        [ 1.0710,  0.5460],\n",
       "        [ 1.6349, -0.1869],\n",
       "        [-0.5411,  1.2125],\n",
       "        [-0.5219, -0.7689],\n",
       "        [-0.5040, -0.4964],\n",
       "        [-1.2047, -1.7238],\n",
       "        [ 1.8328,  0.2773],\n",
       "        [ 0.8992, -0.0759],\n",
       "        [-0.6523,  0.7593],\n",
       "        [-1.3640,  0.4190],\n",
       "        [ 1.4653,  1.9644],\n",
       "        [-0.5914, -0.7811],\n",
       "        [-0.4783, -0.3846],\n",
       "        [ 0.6647,  0.7656],\n",
       "        [-0.2210,  1.1042],\n",
       "        [ 1.3462, -0.2974],\n",
       "        [-0.5912, -0.1251],\n",
       "        [-0.1386, -0.1115],\n",
       "        [-0.5900,  1.0797],\n",
       "        [-1.5561, -1.1057],\n",
       "        [-1.2170,  0.4879],\n",
       "        [ 0.8231,  0.0020],\n",
       "        [-1.2715,  0.3157]])"
      ]
     },
     "execution_count": 8,
     "metadata": {},
     "output_type": "execute_result"
    }
   ],
   "source": [
    "C = torch.randn([27, 2])\n",
    "C"
   ]
  },
  {
   "cell_type": "code",
   "execution_count": 9,
   "id": "5f4a58c4",
   "metadata": {},
   "outputs": [
    {
     "data": {
      "text/plain": [
       "(tensor([ 1.6349, -0.1869]), tensor([True, True]))"
      ]
     },
     "execution_count": 9,
     "metadata": {},
     "output_type": "execute_result"
    }
   ],
   "source": [
    "xenc = F.one_hot(torch.tensor(5), num_classes=27).float()\n",
    "# which is equal to C[5]\n",
    "# 5 th row will be plucked out.\n",
    "C[5], C[5] == xenc @ C"
   ]
  },
  {
   "cell_type": "code",
   "execution_count": 10,
   "id": "7dea8f45",
   "metadata": {},
   "outputs": [
    {
     "data": {
      "text/plain": [
       "tensor([[ 0,  0,  0,  0,  0],\n",
       "        [ 0,  0,  0,  0,  5],\n",
       "        [ 0,  0,  0,  5, 13],\n",
       "        [ 0,  0,  5, 13, 13],\n",
       "        [ 0,  5, 13, 13,  1],\n",
       "        [ 0,  0,  0,  0,  0],\n",
       "        [ 0,  0,  0,  0, 15],\n",
       "        [ 0,  0,  0, 15, 12],\n",
       "        [ 0,  0, 15, 12,  9],\n",
       "        [ 0, 15, 12,  9, 22],\n",
       "        [15, 12,  9, 22,  9],\n",
       "        [12,  9, 22,  9,  1],\n",
       "        [ 0,  0,  0,  0,  0],\n",
       "        [ 0,  0,  0,  0,  1],\n",
       "        [ 0,  0,  0,  1, 22],\n",
       "        [ 0,  0,  1, 22,  1],\n",
       "        [ 0,  0,  0,  0,  0],\n",
       "        [ 0,  0,  0,  0,  9],\n",
       "        [ 0,  0,  0,  9, 19],\n",
       "        [ 0,  0,  9, 19,  1],\n",
       "        [ 0,  9, 19,  1,  2],\n",
       "        [ 9, 19,  1,  2,  5],\n",
       "        [19,  1,  2,  5, 12],\n",
       "        [ 1,  2,  5, 12, 12],\n",
       "        [ 2,  5, 12, 12,  1],\n",
       "        [ 0,  0,  0,  0,  0],\n",
       "        [ 0,  0,  0,  0, 19],\n",
       "        [ 0,  0,  0, 19, 15],\n",
       "        [ 0,  0, 19, 15, 16],\n",
       "        [ 0, 19, 15, 16,  8],\n",
       "        [19, 15, 16,  8,  9],\n",
       "        [15, 16,  8,  9,  1]])"
      ]
     },
     "execution_count": 10,
     "metadata": {},
     "output_type": "execute_result"
    }
   ],
   "source": [
    "xs"
   ]
  },
  {
   "cell_type": "code",
   "execution_count": 11,
   "id": "22450fda",
   "metadata": {},
   "outputs": [
    {
     "data": {
      "text/plain": [
       "(torch.Size([32, 5, 2]), tensor([ 1.6349, -0.1869]), tensor([True, True]))"
      ]
     },
     "execution_count": 11,
     "metadata": {},
     "output_type": "execute_result"
    }
   ],
   "source": [
    "C[xs].shape, C[xs][1, 4], C[xs][1, 4] == C[5] "
   ]
  },
  {
   "cell_type": "code",
   "execution_count": 14,
   "id": "6c1f2c7c",
   "metadata": {},
   "outputs": [
    {
     "data": {
      "text/plain": [
       "torch.Size([32, 5, 2])"
      ]
     },
     "execution_count": 14,
     "metadata": {},
     "output_type": "execute_result"
    }
   ],
   "source": [
    "emb = C[xs]\n",
    "emb.shape"
   ]
  },
  {
   "cell_type": "markdown",
   "id": "6179a21e",
   "metadata": {},
   "source": [
    "# Hidden Layer"
   ]
  },
  {
   "cell_type": "code",
   "execution_count": 16,
   "id": "239a6bb2",
   "metadata": {},
   "outputs": [
    {
     "ename": "RuntimeError",
     "evalue": "mat1 and mat2 shapes cannot be multiplied (160x2 and 10x100)",
     "output_type": "error",
     "traceback": [
      "\u001b[1;31m---------------------------------------------------------------------------\u001b[0m",
      "\u001b[1;31mRuntimeError\u001b[0m                              Traceback (most recent call last)",
      "\u001b[1;32m~\\AppData\\Local\\Temp\\ipykernel_8652\\3803010932.py\u001b[0m in \u001b[0;36m<module>\u001b[1;34m\u001b[0m\n\u001b[0;32m      1\u001b[0m \u001b[0mW\u001b[0m \u001b[1;33m=\u001b[0m \u001b[0mtorch\u001b[0m\u001b[1;33m.\u001b[0m\u001b[0mrandn\u001b[0m\u001b[1;33m(\u001b[0m\u001b[1;33m[\u001b[0m\u001b[1;36m10\u001b[0m\u001b[1;33m,\u001b[0m \u001b[1;36m100\u001b[0m\u001b[1;33m]\u001b[0m\u001b[1;33m)\u001b[0m\u001b[1;33m\u001b[0m\u001b[1;33m\u001b[0m\u001b[0m\n\u001b[1;32m----> 2\u001b[1;33m \u001b[0memb\u001b[0m \u001b[1;33m@\u001b[0m \u001b[0mW\u001b[0m\u001b[1;33m\u001b[0m\u001b[1;33m\u001b[0m\u001b[0m\n\u001b[0m",
      "\u001b[1;31mRuntimeError\u001b[0m: mat1 and mat2 shapes cannot be multiplied (160x2 and 10x100)"
     ]
    }
   ],
   "source": [
    "W = torch.randn([10, 100])\n",
    "emb @ W"
   ]
  },
  {
   "cell_type": "code",
   "execution_count": 31,
   "id": "31cdebf2",
   "metadata": {},
   "outputs": [
    {
     "data": {
      "text/plain": [
       "torch.Size([32, 100])"
      ]
     },
     "execution_count": 31,
     "metadata": {},
     "output_type": "execute_result"
    }
   ],
   "source": [
    "# Method 1: Extract and concat\n",
    "concated_1 = torch.concat((emb[:, 0, :], emb[:, 1, :], emb[:, 2, :], emb[:, 3, :], emb[:, 4, :]), dim=1)\n",
    "(concated_1 @ W).shape"
   ]
  },
  {
   "cell_type": "code",
   "execution_count": 38,
   "id": "a2a4b1b2",
   "metadata": {},
   "outputs": [
    {
     "data": {
      "text/plain": [
       "torch.Size([32, 100])"
      ]
     },
     "execution_count": 38,
     "metadata": {},
     "output_type": "execute_result"
    }
   ],
   "source": [
    "# Method 2: Unbind\n",
    "unbind_emb = torch.unbind(emb, dim=1)\n",
    "concated_2 = torch.concat(unbind_emb, dim=1)\n",
    "(concated_2 @ W).shape"
   ]
  },
  {
   "cell_type": "code",
   "execution_count": 44,
   "id": "51d4a2ec",
   "metadata": {},
   "outputs": [
    {
     "data": {
      "text/plain": [
       "(tensor([[True, True, True, True, True, True, True, True, True, True],\n",
       "         [True, True, True, True, True, True, True, True, True, True],\n",
       "         [True, True, True, True, True, True, True, True, True, True],\n",
       "         [True, True, True, True, True, True, True, True, True, True],\n",
       "         [True, True, True, True, True, True, True, True, True, True],\n",
       "         [True, True, True, True, True, True, True, True, True, True],\n",
       "         [True, True, True, True, True, True, True, True, True, True],\n",
       "         [True, True, True, True, True, True, True, True, True, True],\n",
       "         [True, True, True, True, True, True, True, True, True, True],\n",
       "         [True, True, True, True, True, True, True, True, True, True],\n",
       "         [True, True, True, True, True, True, True, True, True, True],\n",
       "         [True, True, True, True, True, True, True, True, True, True],\n",
       "         [True, True, True, True, True, True, True, True, True, True],\n",
       "         [True, True, True, True, True, True, True, True, True, True],\n",
       "         [True, True, True, True, True, True, True, True, True, True],\n",
       "         [True, True, True, True, True, True, True, True, True, True],\n",
       "         [True, True, True, True, True, True, True, True, True, True],\n",
       "         [True, True, True, True, True, True, True, True, True, True],\n",
       "         [True, True, True, True, True, True, True, True, True, True],\n",
       "         [True, True, True, True, True, True, True, True, True, True],\n",
       "         [True, True, True, True, True, True, True, True, True, True],\n",
       "         [True, True, True, True, True, True, True, True, True, True],\n",
       "         [True, True, True, True, True, True, True, True, True, True],\n",
       "         [True, True, True, True, True, True, True, True, True, True],\n",
       "         [True, True, True, True, True, True, True, True, True, True],\n",
       "         [True, True, True, True, True, True, True, True, True, True],\n",
       "         [True, True, True, True, True, True, True, True, True, True],\n",
       "         [True, True, True, True, True, True, True, True, True, True],\n",
       "         [True, True, True, True, True, True, True, True, True, True],\n",
       "         [True, True, True, True, True, True, True, True, True, True],\n",
       "         [True, True, True, True, True, True, True, True, True, True],\n",
       "         [True, True, True, True, True, True, True, True, True, True]]),\n",
       " tensor([[True, True, True, True, True, True, True, True, True, True],\n",
       "         [True, True, True, True, True, True, True, True, True, True],\n",
       "         [True, True, True, True, True, True, True, True, True, True],\n",
       "         [True, True, True, True, True, True, True, True, True, True],\n",
       "         [True, True, True, True, True, True, True, True, True, True],\n",
       "         [True, True, True, True, True, True, True, True, True, True],\n",
       "         [True, True, True, True, True, True, True, True, True, True],\n",
       "         [True, True, True, True, True, True, True, True, True, True],\n",
       "         [True, True, True, True, True, True, True, True, True, True],\n",
       "         [True, True, True, True, True, True, True, True, True, True],\n",
       "         [True, True, True, True, True, True, True, True, True, True],\n",
       "         [True, True, True, True, True, True, True, True, True, True],\n",
       "         [True, True, True, True, True, True, True, True, True, True],\n",
       "         [True, True, True, True, True, True, True, True, True, True],\n",
       "         [True, True, True, True, True, True, True, True, True, True],\n",
       "         [True, True, True, True, True, True, True, True, True, True],\n",
       "         [True, True, True, True, True, True, True, True, True, True],\n",
       "         [True, True, True, True, True, True, True, True, True, True],\n",
       "         [True, True, True, True, True, True, True, True, True, True],\n",
       "         [True, True, True, True, True, True, True, True, True, True],\n",
       "         [True, True, True, True, True, True, True, True, True, True],\n",
       "         [True, True, True, True, True, True, True, True, True, True],\n",
       "         [True, True, True, True, True, True, True, True, True, True],\n",
       "         [True, True, True, True, True, True, True, True, True, True],\n",
       "         [True, True, True, True, True, True, True, True, True, True],\n",
       "         [True, True, True, True, True, True, True, True, True, True],\n",
       "         [True, True, True, True, True, True, True, True, True, True],\n",
       "         [True, True, True, True, True, True, True, True, True, True],\n",
       "         [True, True, True, True, True, True, True, True, True, True],\n",
       "         [True, True, True, True, True, True, True, True, True, True],\n",
       "         [True, True, True, True, True, True, True, True, True, True],\n",
       "         [True, True, True, True, True, True, True, True, True, True]]))"
      ]
     },
     "execution_count": 44,
     "metadata": {},
     "output_type": "execute_result"
    }
   ],
   "source": [
    "# Method 3: View\n",
    "viewed_emb = emb.view(32, -1)\n",
    "concated_1 == concated_2, concated_1 == viewed_emb"
   ]
  },
  {
   "cell_type": "code",
   "execution_count": 49,
   "id": "012f7397",
   "metadata": {},
   "outputs": [
    {
     "data": {
      "text/plain": [
       "torch.Size([32, 100])"
      ]
     },
     "execution_count": 49,
     "metadata": {},
     "output_type": "execute_result"
    }
   ],
   "source": [
    "b = torch.rand(100)\n",
    "hidden = emb.view(32, -1) @ W + b # b is broadcasted. emb: [32, 100] b: [1, 100] -> [32, 100]\n",
    "hiddden_out = torch.tanh(hidden)\n",
    "hiddden_out.shape"
   ]
  }
 ],
 "metadata": {
  "kernelspec": {
   "display_name": "Python 3 (ipykernel)",
   "language": "python",
   "name": "python3"
  },
  "language_info": {
   "codemirror_mode": {
    "name": "ipython",
    "version": 3
   },
   "file_extension": ".py",
   "mimetype": "text/x-python",
   "name": "python",
   "nbconvert_exporter": "python",
   "pygments_lexer": "ipython3",
   "version": "3.7.16"
  }
 },
 "nbformat": 4,
 "nbformat_minor": 5
}

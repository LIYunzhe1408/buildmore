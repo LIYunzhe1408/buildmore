{
 "cells": [
  {
   "cell_type": "markdown",
   "id": "5e83a267",
   "metadata": {},
   "source": [
    "## Goal\n",
    "Complexify the previous 1-hidden layer multi-layer perceptron.\n",
    "* More characters in a sequence as context\n",
    "* Using the architeture similar to Wavenet rather than squashing too much information quickly in one single hidden layer"
   ]
  },
  {
   "cell_type": "markdown",
   "id": "31041164",
   "metadata": {},
   "source": [
    "## Starter code\n",
    "Copy and paste from part 3: Activations, Gradients, and Batch Normalization\n",
    "\n",
    "* Read in all the words\n",
    "* Build the vocabulary of characters and mappings to/from integers\n",
    "* Build the dataset"
   ]
  },
  {
   "cell_type": "code",
   "execution_count": 13,
   "id": "3530b8a2",
   "metadata": {},
   "outputs": [],
   "source": [
    "import torch\n",
    "import torch.nn.functional as F\n",
    "import matplotlib.pyplot as plt\n",
    "%matplotlib inline"
   ]
  },
  {
   "cell_type": "code",
   "execution_count": 14,
   "id": "c72d476f",
   "metadata": {},
   "outputs": [
    {
     "data": {
      "text/plain": [
       "(32033,\n",
       " ['emma',\n",
       "  'olivia',\n",
       "  'ava',\n",
       "  'isabella',\n",
       "  'sophia',\n",
       "  'charlotte',\n",
       "  'mia',\n",
       "  'amelia',\n",
       "  'harper',\n",
       "  'evelyn'])"
      ]
     },
     "execution_count": 14,
     "metadata": {},
     "output_type": "execute_result"
    }
   ],
   "source": [
    "# Read in all the words\n",
    "words = open(\"names.txt\").read().splitlines()\n",
    "len(words), words[:10]"
   ]
  },
  {
   "cell_type": "code",
   "execution_count": 15,
   "id": "dcfec108",
   "metadata": {},
   "outputs": [
    {
     "name": "stdout",
     "output_type": "stream",
     "text": [
      "{1: 'a', 2: 'b', 3: 'c', 4: 'd', 5: 'e', 6: 'f', 7: 'g', 8: 'h', 9: 'i', 10: 'j', 11: 'k', 12: 'l', 13: 'm', 14: 'n', 15: 'o', 16: 'p', 17: 'q', 18: 'r', 19: 's', 20: 't', 21: 'u', 22: 'v', 23: 'w', 24: 'x', 25: 'y', 26: 'z', 0: '.'}\n"
     ]
    }
   ],
   "source": [
    "# Build the vocabulary of characters and mappings to/from integers\n",
    "vocab = sorted(set(''.join(words)))\n",
    "\n",
    "stoi = {s: i+1 for i, s in enumerate(vocab)}\n",
    "stoi[\".\"] = 0\n",
    "itos = {i: s for s, i in stoi.items()}\n",
    "\n",
    "vocab_size = len(itos) # Used for initiate emb lookup table\n",
    "\n",
    "print(itos)"
   ]
  },
  {
   "cell_type": "code",
   "execution_count": 16,
   "id": "63dc47e7",
   "metadata": {},
   "outputs": [
    {
     "name": "stdout",
     "output_type": "stream",
     "text": [
      "torch.Size([182625, 8]) torch.Size([182625])\n",
      "torch.Size([22655, 8]) torch.Size([22655])\n",
      "torch.Size([22866, 8]) torch.Size([22866])\n"
     ]
    }
   ],
   "source": [
    "# Build the dataset\n",
    "block_size = 8 # context_length: how many characters do we take to predict the next one?\n",
    "def build_dataset(words):\n",
    "    xs, ys = [], []\n",
    "    for word in words:\n",
    "        context = [0] * block_size\n",
    "        for ch in word+\".\":\n",
    "            idx = stoi[ch]\n",
    "            xs.append(context), ys.append(idx)\n",
    "            context = context[1:] + [idx]\n",
    "    xs, ys = torch.tensor(xs), torch.tensor(ys)\n",
    "    print(xs.shape, ys.shape)\n",
    "    return xs, ys\n",
    "\n",
    "import random\n",
    "random.seed(42)\n",
    "random.shuffle(words)\n",
    "train_idx = int(0.8 * len(words))\n",
    "val_idx   = int(0.9 * len(words))\n",
    "\n",
    "x_train, y_train = build_dataset(words[:train_idx])\n",
    "x_val  , y_val   = build_dataset(words[train_idx:val_idx])\n",
    "x_test , y_test  = build_dataset(words[val_idx:])"
   ]
  },
  {
   "cell_type": "code",
   "execution_count": 17,
   "id": "c44af58c",
   "metadata": {},
   "outputs": [
    {
     "name": "stdout",
     "output_type": "stream",
     "text": [
      "........ ---> y\n",
      ".......y ---> u\n",
      "......yu ---> h\n",
      ".....yuh ---> e\n",
      "....yuhe ---> n\n",
      "...yuhen ---> g\n",
      "..yuheng ---> .\n",
      "........ ---> d\n",
      ".......d ---> i\n",
      "......di ---> o\n",
      ".....dio ---> n\n",
      "....dion ---> d\n",
      "...diond ---> r\n",
      "..diondr ---> e\n",
      ".diondre ---> .\n",
      "........ ---> x\n",
      ".......x ---> a\n",
      "......xa ---> v\n",
      ".....xav ---> i\n",
      "....xavi ---> e\n"
     ]
    }
   ],
   "source": [
    "for x, y in zip(x_train[:20], y_train[:20]):\n",
    "    print(''.join(itos[ix.item()] for ix in x), '--->', itos[y.item()])"
   ]
  },
  {
   "cell_type": "code",
   "execution_count": 74,
   "id": "a4bb09e6",
   "metadata": {},
   "outputs": [],
   "source": [
    "# PyTorchified code block\n",
    "# generator g is removed and set as a gobal random seed in next cell.\n",
    "class Linear:\n",
    "    \"\"\"\n",
    "    class torch.nn.Linear(in_features, out_features, bias=True, device=None, dtype=None)\n",
    "    \"\"\"\n",
    "    def __init__(self, in_feature, out_feature, bias=True):\n",
    "        # Initialize weights and bias\n",
    "        self.weights = torch.randn((in_feature, out_feature)) / in_feature ** 0.5\n",
    "        self.bias = torch.zeros(out_feature) if bias else None\n",
    "    \n",
    "    def __call__(self, x):\n",
    "        # Forward pass\n",
    "        self.out = x @ self.weights\n",
    "        if self.bias is not None:\n",
    "            self.out += self.bias\n",
    "        return self.out\n",
    "    \n",
    "    def parameters(self):\n",
    "        # Return a list of weighs and bias if bias is not None\n",
    "        return [self.weights] + ([self.bias] if self.bias is not None else [])\n",
    "    \n",
    "class BatchNorm1D:\n",
    "    \"\"\"\n",
    "    class torch.nn.BatchNorm1d(num_features, eps=1e-05, momentum=0.1, affine=True, track_running_stats=True, device=None, dtype=None)[source]\n",
    "    \"\"\"\n",
    "    def __init__(self, num_features, eps=1e-05, momentum=0.1, affine=True, track_running_stats=True):\n",
    "        # Initialize eps, momentum, training or not\n",
    "        self.eps = eps\n",
    "        self.momentum = momentum\n",
    "        self.training = True\n",
    "        # Initialize gamma and beta if affine = True. Params trained with backprop\n",
    "        if affine:\n",
    "            self.gamma = torch.ones(num_features)\n",
    "            self.beta = torch.zeros(num_features)\n",
    "        # Buffers (Trained internally with a running momentum update)\n",
    "        self.mean_running = torch.zeros(num_features)\n",
    "        self.var_running = torch.ones(num_features)\n",
    "        \n",
    "    \n",
    "    def __call__(self, x):\n",
    "        # If training, calculate the mean and std for x. Otherwise, use the buffer\n",
    "        if self.training:\n",
    "            xmean = x.mean(dim=0, keepdim=True)\n",
    "            xvar = x.var(dim=0, keepdim=True)\n",
    "        else:\n",
    "            xmean = self.mean_running\n",
    "            xvar = self.var_running\n",
    "        # Normalize to unit variance as xhat\n",
    "        x_hat = (x - xmean) / torch.sqrt(xvar + self.eps)\n",
    "        # Scale and shift to out.\n",
    "        self.out = self.gamma * x_hat + self.beta\n",
    "        # Update mean and std buffer if training with momentum update. without grad.\n",
    "        if self.training:\n",
    "            with torch.no_grad():\n",
    "                self.mean_running = (1 - self.momentum) * self.mean_running + self.momentum * xmean\n",
    "                self.var_running = (1 - self.momentum) * self.var_running + self.momentum * xvar\n",
    "        return self.out\n",
    "    \n",
    "    def parameters(self):\n",
    "        # Return a list of gamma, beta.\n",
    "        return [self.gamma, self.beta]\n",
    "    \n",
    "class Tanh:\n",
    "    def __call__(self, x):\n",
    "        # Return tanh x\n",
    "        self.out = torch.tanh(x)\n",
    "        return self.out\n",
    "        \n",
    "    def parameters(self):\n",
    "        # Return empty list\n",
    "        return []\n",
    "\n",
    "# PyTorchifying layers to simplify model construction\n",
    "# torch.embeddings, torch.flatten\n",
    "class Embedding:\n",
    "    def __init__(self, num_embeddings, embedding_dim):\n",
    "        self.weight = torch.randn((num_embeddings, embedding_dim))\n",
    "        \n",
    "    def __call__(self, IX):\n",
    "        self.out = self.weight[IX]\n",
    "        return self.out\n",
    "    \n",
    "    def parameters(self):\n",
    "        return [self.weight]\n",
    "\n",
    "class FlattenConsecutive:\n",
    "    def __init__(self, n):\n",
    "        \"\"\"\n",
    "        n: how many consecutive characters we want to fuse\n",
    "        \"\"\"\n",
    "        self.n = n\n",
    "        \n",
    "    def __call__(self, x):\n",
    "        B, T, C = x.shape # batch, context_length, embd_dim\n",
    "        x = x.view(B, T // self.n, self.n * C)\n",
    "        \n",
    "        # If we are fusing all characters in the context\n",
    "        if x.shape[1] == 1:\n",
    "            x = x.squeeze(dim=1)\n",
    "        \n",
    "        self.out = x\n",
    "        return self.out\n",
    "    \n",
    "    def parameters(self):\n",
    "        return []\n",
    "\n",
    "# Container\n",
    "class Sequential:\n",
    "    \"\"\"\n",
    "    In the forward, we call layers sequentially\n",
    "    \"\"\"\n",
    "    def __init__(self, layers):\n",
    "        self.layers = layers\n",
    "    \n",
    "    def __call__(self, x):\n",
    "        for layer in self.layers:\n",
    "            x = layer(x)\n",
    "        self.out = x\n",
    "        return self.out\n",
    "    \n",
    "    def parameters(self):\n",
    "        # Get parameters of all layers and stretch them into a list.\n",
    "        return [p for layer in self.layers for p in layer.parameters()]"
   ]
  },
  {
   "cell_type": "code",
   "execution_count": 60,
   "id": "32aff5f2",
   "metadata": {},
   "outputs": [],
   "source": [
    "torch.manual_seed(42); # Seed rng for reproducibility"
   ]
  },
  {
   "cell_type": "code",
   "execution_count": 98,
   "id": "3306d190",
   "metadata": {},
   "outputs": [
    {
     "name": "stdout",
     "output_type": "stream",
     "text": [
      "22397\n"
     ]
    }
   ],
   "source": [
    "n_embd = 10 # The dimensionality of the character embedding vectors\n",
    "n_hidden = 68 # The number of neurons in the hidden layer of the MLP\n",
    "\n",
    "# C = torch.randn((vocab_size, n_embd))\n",
    "model = Sequential([\n",
    "    Embedding(vocab_size, n_embd), \n",
    "    FlattenConsecutive(n=2), Linear(n_embd * 2, n_hidden, bias=False), BatchNorm1D(n_hidden), Tanh(),\n",
    "    FlattenConsecutive(n=2), Linear(n_hidden * 2, n_hidden, bias=False), BatchNorm1D(n_hidden), Tanh(),\n",
    "    FlattenConsecutive(n=2), Linear(n_hidden * 2, n_hidden, bias=False), BatchNorm1D(n_hidden), Tanh(),\n",
    "    Linear(n_hidden, vocab_size),\n",
    "])\n",
    "\n",
    "# Parameter inits\n",
    "with torch.no_grad():\n",
    "    model.layers[-1].weights *= 0.1 # Last layer make less confidently wrong\n",
    "\n",
    "# parameters = [p for layer in layers for p in layer.parameters()]\n",
    "parameters = model.parameters()\n",
    "print(sum([p.nelement() for p in parameters]))\n",
    "for p in parameters:\n",
    "    p.requires_grad = True"
   ]
  },
  {
   "cell_type": "markdown",
   "id": "7398fd06",
   "metadata": {},
   "source": [
    "Scroll down to bottom to inspect tensors of the forward pass"
   ]
  },
  {
   "cell_type": "code",
   "execution_count": 21,
   "id": "ca20fcd2",
   "metadata": {},
   "outputs": [
    {
     "name": "stdout",
     "output_type": "stream",
     "text": [
      "      0/ 200000: 3.2847\n",
      "  10000/ 200000: 2.0647\n",
      "  20000/ 200000: 1.9722\n",
      "  30000/ 200000: 2.0948\n",
      "  40000/ 200000: 1.9738\n",
      "  50000/ 200000: 2.1287\n",
      "  60000/ 200000: 2.3574\n",
      "  70000/ 200000: 1.9131\n",
      "  80000/ 200000: 2.0735\n",
      "  90000/ 200000: 2.0968\n",
      " 100000/ 200000: 1.4963\n",
      " 110000/ 200000: 2.1294\n",
      " 120000/ 200000: 2.2324\n",
      " 130000/ 200000: 2.2071\n",
      " 140000/ 200000: 2.2326\n",
      " 150000/ 200000: 1.8908\n",
      " 160000/ 200000: 1.6867\n",
      " 170000/ 200000: 2.0968\n",
      " 180000/ 200000: 1.7824\n",
      " 190000/ 200000: 1.9151\n"
     ]
    }
   ],
   "source": [
    "max_steps = 200000\n",
    "batch_size = 32\n",
    "lossi = []\n",
    "\n",
    "for step in range(max_steps):\n",
    "    # Batch index\n",
    "    idx = torch.randint(0, x_train.shape[0], (batch_size, ))\n",
    "    xb, yb = x_train[idx], y_train[idx]\n",
    "    \n",
    "    # Forward\n",
    "#     emb = C[xb]\n",
    "#     x = emb.view(batch_size, -1)\n",
    "#     x = xb\n",
    "#     for layer in layers:\n",
    "#         x = layer(x)\n",
    "    logits = model(xb)\n",
    "    loss = F.cross_entropy(logits, yb)\n",
    "    \n",
    "    # Backward\n",
    "    for p in parameters:\n",
    "        p.grad = None\n",
    "    loss.backward()\n",
    "    \n",
    "    # Update\n",
    "    lr = 0.1 if step < 150000 else 0.01\n",
    "    for p in parameters:\n",
    "        p.data += -lr * p.grad\n",
    "    \n",
    "    # Track stats\n",
    "    if step % 10000 == 0:\n",
    "        print(f\"{step:7d}/{max_steps:7d}: {loss.item():.4f}\")\n",
    "    lossi.append(loss.log10().item())"
   ]
  },
  {
   "cell_type": "code",
   "execution_count": 22,
   "id": "8f10aaf0",
   "metadata": {},
   "outputs": [
    {
     "data": {
      "text/plain": [
       "[<matplotlib.lines.Line2D at 0x236f835a948>]"
      ]
     },
     "execution_count": 22,
     "metadata": {},
     "output_type": "execute_result"
    },
    {
     "data": {
      "image/png": "[encoded data removed]",
      "text/plain": [
       "<Figure size 640x480 with 1 Axes>"
      ]
     },
     "metadata": {},
     "output_type": "display_data"
    }
   ],
   "source": [
    "# Each row is now going to be 1000 consecutive loss numbers.\n",
    "plt.plot(torch.tensor(lossi).view(-1, 1000).mean(dim=1))"
   ]
  },
  {
   "cell_type": "code",
   "execution_count": 23,
   "id": "3cb6f63d",
   "metadata": {},
   "outputs": [],
   "source": [
    "# Put layers into eval mode (needed for batchnorm to disable mean_running update)\n",
    "for layer in model.layers:\n",
    "    layer.training = False"
   ]
  },
  {
   "cell_type": "code",
   "execution_count": 24,
   "id": "23a73e41",
   "metadata": {},
   "outputs": [
    {
     "name": "stdout",
     "output_type": "stream",
     "text": [
      "train 1.9163438081741333\n",
      "val 2.034248113632202\n"
     ]
    }
   ],
   "source": [
    "# Evaluate the loss\n",
    "@torch.no_grad()\n",
    "def split_loss(split):\n",
    "    x, y = {\n",
    "        \"train\": (x_train, y_train),\n",
    "        \"val\"  : (x_val  , y_val),\n",
    "        \"test\" : (x_test , y_test)\n",
    "    }[split]\n",
    "    \n",
    "#     emb = C[x]\n",
    "#     x = emb.view(emb.shape[0], -1)\n",
    "#     for layer in layers:\n",
    "#         x = layer(x)\n",
    "    logits = model(x)\n",
    "    loss = F.cross_entropy(logits, y)\n",
    "    print(split, loss.item())\n",
    "    \n",
    "split_loss(\"train\")\n",
    "split_loss(\"val\")"
   ]
  },
  {
   "cell_type": "markdown",
   "id": "b0b07f18",
   "metadata": {},
   "source": [
    "### Performance log\n",
    "* original (3 character context + 200 hidden neurons, 12K params): \n",
    "    * train 2.058220624923706\n",
    "    * val 2.1056690216064453\n",
    "* 8 character context + 200 hidden neurons, 22K params:\n",
    "    * train 1.9163438081741333\n",
    "    * val 2.034248113632202"
   ]
  },
  {
   "cell_type": "markdown",
   "id": "a76fad35",
   "metadata": {},
   "source": [
    "Heads up:\n",
    "* torch.tensor(context) will get a shape of [3] with 3 rows.\n",
    "* torch.tensor([context]) will give the correct results with [1, 3] shape."
   ]
  },
  {
   "cell_type": "code",
   "execution_count": 25,
   "id": "18138495",
   "metadata": {},
   "outputs": [
    {
     "name": "stdout",
     "output_type": "stream",
     "text": [
      "melae.\n",
      "lynn.\n",
      "gwesen.\n",
      "macoy.\n",
      "delia.\n",
      "chrelan.\n",
      "jaquin.\n",
      "dayana.\n",
      "haziyah.\n",
      "hamilin.\n",
      "dacy.\n",
      "grayman.\n",
      "abella.\n",
      "kaklyn.\n",
      "cash.\n",
      "hamby.\n",
      "dencelyuh.\n",
      "card.\n",
      "malizen.\n",
      "ronni.\n"
     ]
    }
   ],
   "source": [
    "# sample from the model\n",
    "for _ in range(20):\n",
    "    out = []\n",
    "    context = [0] * block_size\n",
    "    while True:\n",
    "        # Notice that if you do torch.tensor(context) will get [0, 0, 0] which has a shape of [3] with 3 rows.\n",
    "        logits = model(torch.tensor([context]))\n",
    "#         emb = C[torch.tensor([context])]\n",
    "#         x = emb.view(emb.shape[0], -1)\n",
    "#         for layer in layers:\n",
    "#             x = layer(x)\n",
    "#         logits = x\n",
    "        probs = F.softmax(logits, dim=1)\n",
    "        # Sample from the distribution\n",
    "        ix = torch.multinomial(probs, num_samples=1).item()\n",
    "        context = context[1:] + [ix]\n",
    "        out.append(ix)\n",
    "        if ix == 0:\n",
    "            break\n",
    "    print(''.join(itos[iout] for iout in out))"
   ]
  },
  {
   "cell_type": "markdown",
   "id": "2fb6aee6",
   "metadata": {},
   "source": [
    "## PyTorchifying\n",
    "* `torch.Embeddings`, `torch.Flatten` to simplify model construction.\n",
    "* Container: `torch.nn`. `nn.Sequential()` and `model.parameter()`"
   ]
  },
  {
   "cell_type": "markdown",
   "id": "e48475b2",
   "metadata": {},
   "source": [
    "## Increase block_size to 8 and rerun"
   ]
  },
  {
   "cell_type": "code",
   "execution_count": null,
   "id": "2822c417",
   "metadata": {},
   "outputs": [],
   "source": [
    "block_size = 3 # context_length: how many characters do we take to predict the next one?"
   ]
  },
  {
   "cell_type": "markdown",
   "id": "0a8a13f0",
   "metadata": {},
   "source": [
    "## Inspect fordward pass\n",
    "* Look at the forward pass of the neural net\n",
    "* Inspect the shape of the tensors along the way as the neural net forwards\n",
    "\n",
    "Start by debugging a small batch of 4 examples"
   ]
  },
  {
   "cell_type": "code",
   "execution_count": 94,
   "id": "ae08395b",
   "metadata": {},
   "outputs": [
    {
     "name": "stdout",
     "output_type": "stream",
     "text": [
      "torch.Size([4, 8])\n"
     ]
    },
    {
     "data": {
      "text/plain": [
       "tensor([[ 0,  0,  0,  0, 13,  1, 18, 19],\n",
       "        [ 0,  0,  0, 15,  1, 11, 12,  5],\n",
       "        [ 0,  0,  0,  0,  0,  0,  0,  0],\n",
       "        [ 0,  0,  0,  0,  0,  0,  0,  0]])"
      ]
     },
     "execution_count": 94,
     "metadata": {},
     "output_type": "execute_result"
    }
   ],
   "source": [
    "ix = torch.randint(0, x_train.shape[0], (4,))\n",
    "Xb, Yb = x_train[ix], y_train[ix]\n",
    "logits = model(Xb)\n",
    "print(Xb.shape)\n",
    "Xb"
   ]
  },
  {
   "cell_type": "code",
   "execution_count": 85,
   "id": "d0f388e0",
   "metadata": {},
   "outputs": [
    {
     "data": {
      "text/plain": [
       "torch.Size([4, 8, 10])"
      ]
     },
     "execution_count": 85,
     "metadata": {},
     "output_type": "execute_result"
    }
   ],
   "source": [
    "# The first layer is the Embedding Layer\n",
    "# Passing [4,8] will create an output of [4,8,embd_dim]\n",
    "# Our embedding table has a 10-dimensional vector that we are trying to learn for each character.\n",
    "# The embedding layer pleaks out the embedding vector for each one of above integers and organizes\n",
    "# it all in a [4,8,10] tensor.\n",
    "# All integers are translated into 10 dimensional vectors.\n",
    "model.layers[0].out.shape"
   ]
  },
  {
   "cell_type": "code",
   "execution_count": 64,
   "id": "1afa351f",
   "metadata": {},
   "outputs": [
    {
     "data": {
      "text/plain": [
       "torch.Size([4, 80])"
      ]
     },
     "execution_count": 64,
     "metadata": {},
     "output_type": "execute_result"
    }
   ],
   "source": [
    "# Passing above into flatten layer. What this does is it views this tensor\n",
    "# as a 4 by 80 tensor. All these 10 dimensional vectors for 8 characters just\n",
    "# end up being stretched out into a long row.\n",
    "model.layers[1].out.shape"
   ]
  },
  {
   "cell_type": "code",
   "execution_count": 65,
   "id": "98ba75f6",
   "metadata": {},
   "outputs": [
    {
     "data": {
      "text/plain": [
       "torch.Size([4, 200])"
      ]
     },
     "execution_count": 65,
     "metadata": {},
     "output_type": "execute_result"
    }
   ],
   "source": [
    "# The linear layer takes 80 and creates 200 channels via matrix multiplication\n",
    "model.layers[2].out.shape"
   ]
  },
  {
   "cell_type": "code",
   "execution_count": 66,
   "id": "00fb40ce",
   "metadata": {},
   "outputs": [
    {
     "data": {
      "text/plain": [
       "torch.Size([4, 5, 2, 200])"
      ]
     },
     "execution_count": 66,
     "metadata": {},
     "output_type": "execute_result"
    }
   ],
   "source": [
    "# What above linear layer does equals to\n",
    "(torch.randn(4, 80) @ torch.randn(80, 200) + torch.randn(200)).shape\n",
    "(torch.randn(4, 5, 2, 80) @ torch.randn(80, 200) + torch.randn(200)).shape"
   ]
  },
  {
   "cell_type": "code",
   "execution_count": 96,
   "id": "0f2fb352",
   "metadata": {},
   "outputs": [
    {
     "name": "stdout",
     "output_type": "stream",
     "text": [
      "Embedding (4, 8, 10)\n",
      "FlattenConsecutive (4, 4, 20)\n",
      "Linear (4, 4, 200)\n",
      "BatchNorm1D (4, 4, 200)\n",
      "Tanh (4, 4, 200)\n",
      "FlattenConsecutive (4, 2, 400)\n",
      "Linear (4, 2, 200)\n",
      "BatchNorm1D (4, 2, 200)\n",
      "Tanh (4, 2, 200)\n",
      "FlattenConsecutive (4, 400)\n",
      "Linear (4, 200)\n",
      "BatchNorm1D (4, 200)\n",
      "Tanh (4, 200)\n",
      "Linear (4, 27)\n"
     ]
    }
   ],
   "source": [
    "for layer in model.layers:\n",
    "    print(layer.__class__.__name__, tuple(layer.out.shape))"
   ]
  },
  {
   "cell_type": "markdown",
   "id": "70c0d044",
   "metadata": {},
   "source": [
    "The matrix multiplication only works on the last dimension and the dimensions before it in the input tensor are left unchanged."
   ]
  },
  {
   "cell_type": "markdown",
   "id": "cb8958b6",
   "metadata": {},
   "source": [
    "## WaveNet Construction\n",
    "1, 2, 3, 4, 5, 6, 7, 8\n",
    "\n",
    "Now we don't want to flatten all these 8 characters as we don't want to Matrix multiply 80 into a weight matrix multiplication immediately. Instead, we want group these. Every consecutive elements should be flattened out as 4 groups.\n",
    "\n",
    "(1, 2,) (3, 4,) (5, 6,) (7, 8)"
   ]
  },
  {
   "cell_type": "code",
   "execution_count": 33,
   "id": "062e29c6",
   "metadata": {},
   "outputs": [
    {
     "data": {
      "text/plain": [
       "torch.Size([4, 4, 200])"
      ]
     },
     "execution_count": 33,
     "metadata": {},
     "output_type": "execute_result"
    }
   ],
   "source": [
    "# We only want 2 character to come in on the very first layer.\n",
    "# Those 2 characters shuold be fused.\n",
    "(torch.randn(4, 4, 20) @ torch.randn(20, 200) + torch.randn(200)).shape"
   ]
  },
  {
   "cell_type": "markdown",
   "id": "535d83be",
   "metadata": {},
   "source": [
    "We need to change the linear layer and acheieve what we want to get to.\n",
    "So we also have to change the flatten layer so it doesn't fully flatten out the input."
   ]
  },
  {
   "cell_type": "code",
   "execution_count": 38,
   "id": "e933740e",
   "metadata": {},
   "outputs": [
    {
     "data": {
      "text/plain": [
       "[0, 2, 4, 6, 8]"
      ]
     },
     "execution_count": 38,
     "metadata": {},
     "output_type": "execute_result"
    }
   ],
   "source": [
    "# Get odd and even elements\n",
    "list(range(10))[::2]\n",
    "list(range(10))[1::2]"
   ]
  },
  {
   "cell_type": "code",
   "execution_count": 42,
   "id": "c3e93b53",
   "metadata": {},
   "outputs": [
    {
     "data": {
      "text/plain": [
       "torch.Size([4, 4, 20])"
      ]
     },
     "execution_count": 42,
     "metadata": {},
     "output_type": "execute_result"
    }
   ],
   "source": [
    "# Way 1: Explicit how it works\n",
    "e = torch.randn(4, 8, 10) # Goal: to be (4, 4, 20) where consecutive 10-d vector get concantenated\n",
    "explicit = torch.cat([e[:, ::2, :], e[:, 1::2, :]], dim=2)\n",
    "explicit.shape"
   ]
  },
  {
   "cell_type": "code",
   "execution_count": 44,
   "id": "5b0d5bc7",
   "metadata": {},
   "outputs": [
    {
     "data": {
      "text/plain": [
       "tensor([[[True, True, True, True, True, True, True, True, True, True, True,\n",
       "          True, True, True, True, True, True, True, True, True],\n",
       "         [True, True, True, True, True, True, True, True, True, True, True,\n",
       "          True, True, True, True, True, True, True, True, True],\n",
       "         [True, True, True, True, True, True, True, True, True, True, True,\n",
       "          True, True, True, True, True, True, True, True, True],\n",
       "         [True, True, True, True, True, True, True, True, True, True, True,\n",
       "          True, True, True, True, True, True, True, True, True]],\n",
       "\n",
       "        [[True, True, True, True, True, True, True, True, True, True, True,\n",
       "          True, True, True, True, True, True, True, True, True],\n",
       "         [True, True, True, True, True, True, True, True, True, True, True,\n",
       "          True, True, True, True, True, True, True, True, True],\n",
       "         [True, True, True, True, True, True, True, True, True, True, True,\n",
       "          True, True, True, True, True, True, True, True, True],\n",
       "         [True, True, True, True, True, True, True, True, True, True, True,\n",
       "          True, True, True, True, True, True, True, True, True]],\n",
       "\n",
       "        [[True, True, True, True, True, True, True, True, True, True, True,\n",
       "          True, True, True, True, True, True, True, True, True],\n",
       "         [True, True, True, True, True, True, True, True, True, True, True,\n",
       "          True, True, True, True, True, True, True, True, True],\n",
       "         [True, True, True, True, True, True, True, True, True, True, True,\n",
       "          True, True, True, True, True, True, True, True, True],\n",
       "         [True, True, True, True, True, True, True, True, True, True, True,\n",
       "          True, True, True, True, True, True, True, True, True]],\n",
       "\n",
       "        [[True, True, True, True, True, True, True, True, True, True, True,\n",
       "          True, True, True, True, True, True, True, True, True],\n",
       "         [True, True, True, True, True, True, True, True, True, True, True,\n",
       "          True, True, True, True, True, True, True, True, True],\n",
       "         [True, True, True, True, True, True, True, True, True, True, True,\n",
       "          True, True, True, True, True, True, True, True, True],\n",
       "         [True, True, True, True, True, True, True, True, True, True, True,\n",
       "          True, True, True, True, True, True, True, True, True]]])"
      ]
     },
     "execution_count": 44,
     "metadata": {},
     "output_type": "execute_result"
    }
   ],
   "source": [
    "# Way 2: tensor.view\n",
    "e.view(4, 4, 20) == explicit"
   ]
  },
  {
   "cell_type": "markdown",
   "id": "a416f16b",
   "metadata": {},
   "source": [
    "Use `tensor.view()` to change how `Flatten` defined above. We want to give a number to indicate how many consecutive characters we want to fuse."
   ]
  },
  {
   "cell_type": "markdown",
   "id": "f44ed0ab",
   "metadata": {},
   "source": [
    "Change `hidden_dim` to 68 so that the model will have similar capacity of 22k param as before"
   ]
  },
  {
   "cell_type": "code",
   "execution_count": 97,
   "id": "5ca37261",
   "metadata": {},
   "outputs": [],
   "source": [
    "n_hidden = 68 # The number of neurons in the hidden layer of the MLP"
   ]
  }
 ],
 "metadata": {
  "kernelspec": {
   "display_name": "Python 3 (ipykernel)",
   "language": "python",
   "name": "python3"
  },
  "language_info": {
   "codemirror_mode": {
    "name": "ipython",
    "version": 3
   },
   "file_extension": ".py",
   "mimetype": "text/x-python",
   "name": "python",
   "nbconvert_exporter": "python",
   "pygments_lexer": "ipython3",
   "version": "3.7.16"
  }
 },
 "nbformat": 4,
 "nbformat_minor": 5
}

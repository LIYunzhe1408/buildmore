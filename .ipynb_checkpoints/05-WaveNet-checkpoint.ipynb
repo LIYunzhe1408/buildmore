{
 "cells": [
  {
   "cell_type": "markdown",
   "id": "5e83a267",
   "metadata": {},
   "source": [
    "## Goal\n",
    "Complexify the previous 1-hidden layer multi-layer perceptron.\n",
    "* More characters in a sequence as context\n",
    "* Using the architeture similar to Wavenet rather than squashing too much information quickly in one single hidden layer"
   ]
  },
  {
   "cell_type": "markdown",
   "id": "31041164",
   "metadata": {},
   "source": [
    "## Starter code\n",
    "Copy and paste from part 3: Activations, Gradients, and Batch Normalization\n",
    "\n",
    "* Read in all the words\n",
    "* Build the vocabulary of characters and mappings to/from integers\n",
    "* Build the dataset"
   ]
  },
  {
   "cell_type": "code",
   "execution_count": 1,
   "id": "3530b8a2",
   "metadata": {},
   "outputs": [],
   "source": [
    "import torch\n",
    "import torch.nn.functional as F\n",
    "import matplotlib.pyplot as plt\n",
    "%matplotlib inline"
   ]
  },
  {
   "cell_type": "code",
   "execution_count": 2,
   "id": "c72d476f",
   "metadata": {},
   "outputs": [
    {
     "data": {
      "text/plain": [
       "(32033,\n",
       " ['emma',\n",
       "  'olivia',\n",
       "  'ava',\n",
       "  'isabella',\n",
       "  'sophia',\n",
       "  'charlotte',\n",
       "  'mia',\n",
       "  'amelia',\n",
       "  'harper',\n",
       "  'evelyn'])"
      ]
     },
     "execution_count": 2,
     "metadata": {},
     "output_type": "execute_result"
    }
   ],
   "source": [
    "# Read in all the words\n",
    "words = open(\"names.txt\").read().splitlines()\n",
    "len(words), words[:10]"
   ]
  },
  {
   "cell_type": "code",
   "execution_count": 4,
   "id": "dcfec108",
   "metadata": {},
   "outputs": [
    {
     "name": "stdout",
     "output_type": "stream",
     "text": [
      "{1: 'a', 2: 'b', 3: 'c', 4: 'd', 5: 'e', 6: 'f', 7: 'g', 8: 'h', 9: 'i', 10: 'j', 11: 'k', 12: 'l', 13: 'm', 14: 'n', 15: 'o', 16: 'p', 17: 'q', 18: 'r', 19: 's', 20: 't', 21: 'u', 22: 'v', 23: 'w', 24: 'x', 25: 'y', 26: 'z', 0: '.'}\n"
     ]
    }
   ],
   "source": [
    "# Build the vocabulary of characters and mappings to/from integers\n",
    "vocab = sorted(set(''.join(words)))\n",
    "\n",
    "stoi = {s: i+1 for i, s in enumerate(vocab)}\n",
    "stoi[\".\"] = 0\n",
    "itos = {i: s for s, i in stoi.items()}\n",
    "\n",
    "vocab_size = len(itos) # Used for initiate emb lookup table\n",
    "\n",
    "print(itos)"
   ]
  },
  {
   "cell_type": "code",
   "execution_count": 5,
   "id": "63dc47e7",
   "metadata": {},
   "outputs": [
    {
     "name": "stdout",
     "output_type": "stream",
     "text": [
      "torch.Size([182625, 3]) torch.Size([182625])\n",
      "torch.Size([22655, 3]) torch.Size([22655])\n",
      "torch.Size([22866, 3]) torch.Size([22866])\n"
     ]
    }
   ],
   "source": [
    "# Build the dataset\n",
    "block_size = 3 # context_length: how many characters do we take to predict the next one?\n",
    "def build_dataset(words):\n",
    "    xs, ys = [], []\n",
    "    for word in words:\n",
    "        context = [0] * block_size\n",
    "        for ch in word+\".\":\n",
    "            idx = stoi[ch]\n",
    "            xs.append(context), ys.append(idx)\n",
    "            context = context[1:] + [idx]\n",
    "    xs, ys = torch.tensor(xs), torch.tensor(ys)\n",
    "    print(xs.shape, ys.shape)\n",
    "    return xs, ys\n",
    "\n",
    "import random\n",
    "random.seed(42)\n",
    "random.shuffle(words)\n",
    "train_idx = int(0.8 * len(words))\n",
    "val_idx   = int(0.9 * len(words))\n",
    "\n",
    "x_train, y_train = build_dataset(words[:train_idx])\n",
    "x_val  , y_val   = build_dataset(words[train_idx:val_idx])\n",
    "x_test , y_test  = build_dataset(words[val_idx:])"
   ]
  },
  {
   "cell_type": "code",
   "execution_count": 10,
   "id": "c44af58c",
   "metadata": {},
   "outputs": [
    {
     "name": "stdout",
     "output_type": "stream",
     "text": [
      "... ---> y\n",
      "..y ---> u\n",
      ".yu ---> h\n",
      "yuh ---> e\n",
      "uhe ---> n\n",
      "hen ---> g\n",
      "eng ---> .\n",
      "... ---> d\n",
      "..d ---> i\n",
      ".di ---> o\n",
      "dio ---> n\n",
      "ion ---> d\n",
      "ond ---> r\n",
      "ndr ---> e\n",
      "dre ---> .\n",
      "... ---> x\n",
      "..x ---> a\n",
      ".xa ---> v\n",
      "xav ---> i\n",
      "avi ---> e\n"
     ]
    }
   ],
   "source": [
    "for x, y in zip(x_train[:20], y_train[:20]):\n",
    "    print(''.join(itos[ix.item()] for ix in x), '--->', itos[y.item()])"
   ]
  },
  {
   "cell_type": "code",
   "execution_count": 25,
   "id": "a4bb09e6",
   "metadata": {},
   "outputs": [],
   "source": [
    "# PyTorchified code block\n",
    "# generator g is removed and set as a gobal random seed in next cell.\n",
    "class Linear:\n",
    "    \"\"\"\n",
    "    class torch.nn.Linear(in_features, out_features, bias=True, device=None, dtype=None)\n",
    "    \"\"\"\n",
    "    def __init__(self, in_feature, out_feature, bias=True):\n",
    "        # Initialize weights and bias\n",
    "        self.weights = torch.randn((in_feature, out_feature)) / in_feature ** 0.5\n",
    "        self.bias = torch.zeros(out_feature) if bias else None\n",
    "    \n",
    "    def __call__(self, x):\n",
    "        # Forward pass\n",
    "        self.out = x @ self.weights\n",
    "        if self.bias is not None:\n",
    "            self.out += self.bias\n",
    "        return self.out\n",
    "    \n",
    "    def parameters(self):\n",
    "        # Return a list of weighs and bias if bias is not None\n",
    "        return [self.weights] + ([self.bias] if self.bias is not None else [])\n",
    "    \n",
    "class BatchNorm1D:\n",
    "    \"\"\"\n",
    "    class torch.nn.BatchNorm1d(num_features, eps=1e-05, momentum=0.1, affine=True, track_running_stats=True, device=None, dtype=None)[source]\n",
    "    \"\"\"\n",
    "    def __init__(self, num_features, eps=1e-05, momentum=0.1, affine=True, track_running_stats=True):\n",
    "        # Initialize eps, momentum, training or not\n",
    "        self.eps = eps\n",
    "        self.momentum = momentum\n",
    "        self.training = True\n",
    "        # Initialize gamma and beta if affine = True. Params trained with backprop\n",
    "        if affine:\n",
    "            self.gamma = torch.ones(num_features)\n",
    "            self.beta = torch.zeros(num_features)\n",
    "        # Buffers (Trained internally with a running momentum update)\n",
    "        self.mean_running = torch.zeros(num_features)\n",
    "        self.var_running = torch.ones(num_features)\n",
    "        \n",
    "    \n",
    "    def __call__(self, x):\n",
    "        # If training, calculate the mean and std for x. Otherwise, use the buffer\n",
    "        if self.training:\n",
    "            xmean = x.mean(dim=0, keepdim=True)\n",
    "            xvar = x.var(dim=0, keepdim=True)\n",
    "        else:\n",
    "            xmean = self.mean_running\n",
    "            xvar = self.var_running\n",
    "        # Normalize to unit variance as xhat\n",
    "        x_hat = (x - xmean) / torch.sqrt(xvar + self.eps)\n",
    "        # Scale and shift to out.\n",
    "        self.out = self.gamma * x_hat + self.beta\n",
    "        # Update mean and std buffer if training with momentum update. without grad.\n",
    "        if self.training:\n",
    "            with torch.no_grad():\n",
    "                self.mean_running = (1 - self.momentum) * self.mean_running + self.momentum * xmean\n",
    "                self.var_running = (1 - self.momentum) * self.var_running + self.momentum * xvar\n",
    "        return self.out\n",
    "    \n",
    "    def parameters(self):\n",
    "        # Return a list of gamma, beta.\n",
    "        return [self.gamma, self.beta]\n",
    "    \n",
    "class Tanh:\n",
    "    def __call__(self, x):\n",
    "        # Return tanh x\n",
    "        self.out = torch.tanh(x)\n",
    "        return self.out\n",
    "        \n",
    "    def parameters(self):\n",
    "        # Return empty list\n",
    "        return []"
   ]
  },
  {
   "cell_type": "code",
   "execution_count": 27,
   "id": "32aff5f2",
   "metadata": {},
   "outputs": [],
   "source": [
    "torch.manual_seed(42); # Seed rng for reproducibility"
   ]
  },
  {
   "cell_type": "code",
   "execution_count": 28,
   "id": "3306d190",
   "metadata": {},
   "outputs": [
    {
     "name": "stdout",
     "output_type": "stream",
     "text": [
      "12097\n"
     ]
    }
   ],
   "source": [
    "n_embd = 10 # The dimensionality of the character embedding vectors\n",
    "n_hidden = 200 # The number of neurons in the hidden layer of the MLP\n",
    "\n",
    "C = torch.randn((vocab_size, n_embd))\n",
    "layers = [\n",
    "    Linear(n_embd * block_size, n_hidden, bias=False), BatchNorm1D(n_hidden), Tanh(),\n",
    "    Linear(n_hidden, vocab_size),\n",
    "]\n",
    "\n",
    "# Parameter inits\n",
    "with torch.no_grad():\n",
    "    layers[-1].weights *= 0.1 # Last layer make less confidently wrong\n",
    "\n",
    "parameters = [C] + [p for layer in layers for p in layer.parameters()]\n",
    "print(sum([p.nelement() for p in parameters]))\n",
    "for p in parameters:\n",
    "    p.requires_grad = True"
   ]
  },
  {
   "cell_type": "code",
   "execution_count": 29,
   "id": "ca20fcd2",
   "metadata": {},
   "outputs": [
    {
     "name": "stdout",
     "output_type": "stream",
     "text": [
      "      0/ 200000: 3.2966\n",
      "  10000/ 200000: 2.2322\n",
      "  20000/ 200000: 2.4111\n",
      "  30000/ 200000: 2.1004\n",
      "  40000/ 200000: 2.3157\n",
      "  50000/ 200000: 2.2104\n",
      "  60000/ 200000: 1.9653\n",
      "  70000/ 200000: 1.9767\n",
      "  80000/ 200000: 2.6738\n",
      "  90000/ 200000: 2.0837\n",
      " 100000/ 200000: 2.2730\n",
      " 110000/ 200000: 1.7491\n",
      " 120000/ 200000: 2.2891\n",
      " 130000/ 200000: 2.3443\n",
      " 140000/ 200000: 2.1731\n",
      " 150000/ 200000: 1.8246\n",
      " 160000/ 200000: 1.7614\n",
      " 170000/ 200000: 2.2419\n",
      " 180000/ 200000: 2.0803\n",
      " 190000/ 200000: 2.1326\n"
     ]
    }
   ],
   "source": [
    "max_steps = 200000\n",
    "batch_size = 32\n",
    "lossi = []\n",
    "\n",
    "for step in range(max_steps):\n",
    "    # Batch index\n",
    "    idx = torch.randint(0, x_train.shape[0], (batch_size, ))\n",
    "    xb, yb = x_train[idx], y_train[idx]\n",
    "    \n",
    "    # Forward\n",
    "    emb = C[xb]\n",
    "    x = emb.view(batch_size, -1)\n",
    "    for layer in layers:\n",
    "        x = layer(x)\n",
    "    loss = F.cross_entropy(x, yb)\n",
    "    \n",
    "    # Backward\n",
    "    for p in parameters:\n",
    "        p.grad = None\n",
    "    loss.backward()\n",
    "    \n",
    "    # Update\n",
    "    lr = 0.1 if step < 150000 else 0.01\n",
    "    for p in parameters:\n",
    "        p.data += -lr * p.grad\n",
    "    \n",
    "    # Track stats\n",
    "    if step % 10000 == 0:\n",
    "        print(f\"{step:7d}/{max_steps:7d}: {loss.item():.4f}\")\n",
    "    lossi.append(loss.log10().item())"
   ]
  },
  {
   "cell_type": "code",
   "execution_count": 41,
   "id": "8f10aaf0",
   "metadata": {},
   "outputs": [
    {
     "data": {
      "text/plain": [
       "[<matplotlib.lines.Line2D at 0x139d749f488>]"
      ]
     },
     "execution_count": 41,
     "metadata": {},
     "output_type": "execute_result"
    },
    {
     "data": {
      "image/png": "[encoded data removed]",
      "text/plain": [
       "<Figure size 640x480 with 1 Axes>"
      ]
     },
     "metadata": {},
     "output_type": "display_data"
    }
   ],
   "source": [
    "# Each row is now going to be 1000 consecutive loss numbers.\n",
    "plt.plot(torch.tensor(lossi).view(-1, 1000).mean(dim=1))"
   ]
  },
  {
   "cell_type": "code",
   "execution_count": 31,
   "id": "3cb6f63d",
   "metadata": {},
   "outputs": [],
   "source": [
    "# Put layers into eval mode (needed for batchnorm to disable mean_running update)\n",
    "for layer in layers:\n",
    "    layer.training = False"
   ]
  },
  {
   "cell_type": "code",
   "execution_count": 32,
   "id": "23a73e41",
   "metadata": {},
   "outputs": [
    {
     "name": "stdout",
     "output_type": "stream",
     "text": [
      "train 2.0583252906799316\n",
      "val 2.1065292358398438\n"
     ]
    }
   ],
   "source": [
    "# Evaluate the loss\n",
    "@torch.no_grad()\n",
    "def split_loss(split):\n",
    "    x, y = {\n",
    "        \"train\": (x_train, y_train),\n",
    "        \"val\"  : (x_val  , y_val),\n",
    "        \"test\" : (x_test , y_test)\n",
    "    }[split]\n",
    "    \n",
    "    emb = C[x]\n",
    "    x = emb.view(emb.shape[0], -1)\n",
    "    for layer in layers:\n",
    "        x = layer(x)\n",
    "    loss = F.cross_entropy(x, y)\n",
    "    print(split, loss.item())\n",
    "    \n",
    "split_loss(\"train\")\n",
    "split_loss(\"val\")"
   ]
  },
  {
   "cell_type": "markdown",
   "id": "a76fad35",
   "metadata": {},
   "source": [
    "Heads up:\n",
    "* torch.tensor(context) will get a shape of [3] with 3 rows.\n",
    "* torch.tensor([context]) will give the correct results with [1, 3] shape."
   ]
  },
  {
   "cell_type": "code",
   "execution_count": 38,
   "id": "18138495",
   "metadata": {},
   "outputs": [
    {
     "name": "stdout",
     "output_type": "stream",
     "text": [
      "ivon.\n",
      "fanili.\n",
      "thoommara.\n",
      "kelo.\n",
      "matyn.\n",
      "leandr.\n",
      "aleigh.\n",
      "koldeniah.\n",
      "prus.\n",
      "carleen.\n",
      "jah.\n",
      "jorra.\n",
      "alaya.\n",
      "shonan.\n",
      "vishylaharia.\n",
      "juna.\n",
      "vio.\n",
      "orven.\n",
      "mina.\n",
      "laylee.\n"
     ]
    }
   ],
   "source": [
    "# sample from the model\n",
    "for _ in range(20):\n",
    "    out = []\n",
    "    context = [0] * block_size\n",
    "    while True:\n",
    "        # Notice that if you do torch.tensor(context) will get [0, 0, 0] which has a shape of [3] with 3 rows.\n",
    "        emb = C[torch.tensor([context])]\n",
    "        x = emb.view(emb.shape[0], -1)\n",
    "        for layer in layers:\n",
    "            x = layer(x)\n",
    "        logits = x\n",
    "        probs = F.softmax(logits, dim=1)\n",
    "        # Sample from the distribution\n",
    "        ix = torch.multinomial(probs, num_samples=1).item()\n",
    "        context = context[1:] + [ix]\n",
    "        out.append(ix)\n",
    "        if ix == 0:\n",
    "            break\n",
    "    print(''.join(itos[iout] for iout in out))"
   ]
  }
 ],
 "metadata": {
  "kernelspec": {
   "display_name": "Python 3 (ipykernel)",
   "language": "python",
   "name": "python3"
  },
  "language_info": {
   "codemirror_mode": {
    "name": "ipython",
    "version": 3
   },
   "file_extension": ".py",
   "mimetype": "text/x-python",
   "name": "python",
   "nbconvert_exporter": "python",
   "pygments_lexer": "ipython3",
   "version": "3.7.16"
  }
 },
 "nbformat": 4,
 "nbformat_minor": 5
}

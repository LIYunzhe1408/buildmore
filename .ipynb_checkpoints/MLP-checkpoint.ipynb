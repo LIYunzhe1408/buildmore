{
 "cells": [
  {
   "cell_type": "markdown",
   "id": "ba5b6988",
   "metadata": {},
   "source": [
    "We currently have a model that can deal with one character of previous context. But the precition was not good enough.\n",
    "\n",
    "* More context? way too many rows => expensive to calculate\n",
    "* MLP"
   ]
  },
  {
   "cell_type": "code",
   "execution_count": 15,
   "id": "f3886184",
   "metadata": {},
   "outputs": [],
   "source": [
    "import torch\n",
    "import torch.nn.functional as F"
   ]
  },
  {
   "cell_type": "markdown",
   "id": "9b61fff8",
   "metadata": {},
   "source": [
    "# Data"
   ]
  },
  {
   "cell_type": "code",
   "execution_count": 2,
   "id": "159617fd",
   "metadata": {},
   "outputs": [
    {
     "data": {
      "text/plain": [
       "['emma',\n",
       " 'olivia',\n",
       " 'ava',\n",
       " 'isabella',\n",
       " 'sophia',\n",
       " 'charlotte',\n",
       " 'mia',\n",
       " 'amelia',\n",
       " 'harper',\n",
       " 'evelyn']"
      ]
     },
     "execution_count": 2,
     "metadata": {},
     "output_type": "execute_result"
    }
   ],
   "source": [
    "names = open(\"names.txt\").read().splitlines()\n",
    "names[:10]"
   ]
  },
  {
   "cell_type": "code",
   "execution_count": 3,
   "id": "bce38bd5",
   "metadata": {},
   "outputs": [
    {
     "data": {
      "text/plain": [
       "27"
      ]
     },
     "execution_count": 3,
     "metadata": {},
     "output_type": "execute_result"
    }
   ],
   "source": [
    "vocab = sorted(set(''.join(names)))\n",
    "vocab = [\".\"] + vocab\n",
    "len(vocab)"
   ]
  },
  {
   "cell_type": "code",
   "execution_count": 4,
   "id": "4beb322c",
   "metadata": {},
   "outputs": [],
   "source": [
    "stoi = {s:i for i, s in enumerate(vocab)}\n",
    "itos = {i:s for s, i in stoi.items()}"
   ]
  },
  {
   "cell_type": "code",
   "execution_count": 5,
   "id": "69491400",
   "metadata": {},
   "outputs": [
    {
     "name": "stdout",
     "output_type": "stream",
     "text": [
      "emma\n",
      "..... -------> e\n",
      "....e -------> m\n",
      "...em -------> m\n",
      "..emm -------> a\n",
      ".emma -------> .\n",
      "olivia\n",
      "..... -------> o\n",
      "....o -------> l\n",
      "...ol -------> i\n",
      "..oli -------> v\n",
      ".oliv -------> i\n",
      "olivi -------> a\n",
      "livia -------> .\n",
      "ava\n",
      "..... -------> a\n",
      "....a -------> v\n",
      "...av -------> a\n",
      "..ava -------> .\n",
      "isabella\n",
      "..... -------> i\n",
      "....i -------> s\n",
      "...is -------> a\n",
      "..isa -------> b\n",
      ".isab -------> e\n",
      "isabe -------> l\n",
      "sabel -------> l\n",
      "abell -------> a\n",
      "bella -------> .\n",
      "sophia\n",
      "..... -------> s\n",
      "....s -------> o\n",
      "...so -------> p\n",
      "..sop -------> h\n",
      ".soph -------> i\n",
      "sophi -------> a\n",
      "ophia -------> .\n"
     ]
    }
   ],
   "source": [
    "block_size = 5 # context length\n",
    "xs, ys = [], []\n",
    "\n",
    "for name in names[:5]:\n",
    "    context = [0] * block_size\n",
    "    print(name)\n",
    "    for ch in name+\".\":\n",
    "        idx = stoi[ch]\n",
    "        xs.append(context)\n",
    "        ys.append(idx)\n",
    "        print(f\"{''.join([itos[i] for i in context])} -------> {itos[idx]}\")\n",
    "        context = context[1:] + [idx]\n",
    "xs, ys = torch.tensor(xs), torch.tensor(ys)"
   ]
  },
  {
   "cell_type": "code",
   "execution_count": 6,
   "id": "ceaa509f",
   "metadata": {},
   "outputs": [
    {
     "data": {
      "text/plain": [
       "(torch.Size([32, 5]), torch.int64, torch.Size([32]), torch.int64)"
      ]
     },
     "execution_count": 6,
     "metadata": {},
     "output_type": "execute_result"
    }
   ],
   "source": [
    "xs.shape, xs.dtype, ys.shape, ys.dtype"
   ]
  },
  {
   "cell_type": "markdown",
   "id": "58e8d8c4",
   "metadata": {},
   "source": [
    "# Embedding"
   ]
  },
  {
   "cell_type": "markdown",
   "id": "dbef8cff",
   "metadata": {},
   "source": [
    "Our vocab size is 27 and we want to map them into 2-D space. In original paper from Bengio, they have 17,000 words and then map them into 30-D space."
   ]
  },
  {
   "cell_type": "code",
   "execution_count": 16,
   "id": "bfbe7142",
   "metadata": {},
   "outputs": [
    {
     "data": {
      "text/plain": [
       "tensor([[-0.8262, -0.0732],\n",
       "        [-1.0438,  0.3313],\n",
       "        [-0.7443, -0.0562],\n",
       "        [ 0.0032, -0.9635],\n",
       "        [ 1.3140, -0.1375],\n",
       "        [-0.4448,  0.6388],\n",
       "        [ 0.6052,  1.8997],\n",
       "        [-0.7271, -0.4932],\n",
       "        [-0.7053,  0.5348],\n",
       "        [ 0.6374, -0.1047],\n",
       "        [-1.6623, -1.9371],\n",
       "        [-1.0474,  0.2313],\n",
       "        [-1.4575, -0.2714],\n",
       "        [-1.1575, -0.4749],\n",
       "        [ 0.2037, -2.8663],\n",
       "        [-0.6498, -0.6538],\n",
       "        [-0.9157,  0.6796],\n",
       "        [ 0.3786, -0.5950],\n",
       "        [-0.3459,  1.3806],\n",
       "        [-0.3691, -0.2993],\n",
       "        [ 0.6855, -0.3610],\n",
       "        [ 0.9752, -0.0268],\n",
       "        [ 0.1188,  1.1797],\n",
       "        [ 1.5071, -0.9910],\n",
       "        [ 0.9470, -0.1562],\n",
       "        [-1.6616, -0.0554],\n",
       "        [ 0.3088,  0.7594]])"
      ]
     },
     "execution_count": 16,
     "metadata": {},
     "output_type": "execute_result"
    }
   ],
   "source": [
    "C = torch.randn([27, 2])\n",
    "C"
   ]
  },
  {
   "cell_type": "code",
   "execution_count": 20,
   "id": "5f4a58c4",
   "metadata": {},
   "outputs": [
    {
     "data": {
      "text/plain": [
       "(tensor([-0.4448,  0.6388]), tensor([True, True]))"
      ]
     },
     "execution_count": 20,
     "metadata": {},
     "output_type": "execute_result"
    }
   ],
   "source": [
    "xenc = F.one_hot(torch.tensor(5), num_classes=27).float()\n",
    "# which is equal to C[5]\n",
    "# 5 th row will be plucked out.\n",
    "C[5], C[5] == xenc @ C"
   ]
  },
  {
   "cell_type": "code",
   "execution_count": 30,
   "id": "7dea8f45",
   "metadata": {},
   "outputs": [
    {
     "data": {
      "text/plain": [
       "tensor([[ 0,  0,  0,  0,  0],\n",
       "        [ 0,  0,  0,  0,  5],\n",
       "        [ 0,  0,  0,  5, 13],\n",
       "        [ 0,  0,  5, 13, 13],\n",
       "        [ 0,  5, 13, 13,  1],\n",
       "        [ 0,  0,  0,  0,  0],\n",
       "        [ 0,  0,  0,  0, 15],\n",
       "        [ 0,  0,  0, 15, 12],\n",
       "        [ 0,  0, 15, 12,  9],\n",
       "        [ 0, 15, 12,  9, 22],\n",
       "        [15, 12,  9, 22,  9],\n",
       "        [12,  9, 22,  9,  1],\n",
       "        [ 0,  0,  0,  0,  0],\n",
       "        [ 0,  0,  0,  0,  1],\n",
       "        [ 0,  0,  0,  1, 22],\n",
       "        [ 0,  0,  1, 22,  1],\n",
       "        [ 0,  0,  0,  0,  0],\n",
       "        [ 0,  0,  0,  0,  9],\n",
       "        [ 0,  0,  0,  9, 19],\n",
       "        [ 0,  0,  9, 19,  1],\n",
       "        [ 0,  9, 19,  1,  2],\n",
       "        [ 9, 19,  1,  2,  5],\n",
       "        [19,  1,  2,  5, 12],\n",
       "        [ 1,  2,  5, 12, 12],\n",
       "        [ 2,  5, 12, 12,  1],\n",
       "        [ 0,  0,  0,  0,  0],\n",
       "        [ 0,  0,  0,  0, 19],\n",
       "        [ 0,  0,  0, 19, 15],\n",
       "        [ 0,  0, 19, 15, 16],\n",
       "        [ 0, 19, 15, 16,  8],\n",
       "        [19, 15, 16,  8,  9],\n",
       "        [15, 16,  8,  9,  1]])"
      ]
     },
     "execution_count": 30,
     "metadata": {},
     "output_type": "execute_result"
    }
   ],
   "source": [
    "xs"
   ]
  },
  {
   "cell_type": "code",
   "execution_count": 34,
   "id": "22450fda",
   "metadata": {},
   "outputs": [
    {
     "data": {
      "text/plain": [
       "(torch.Size([32, 5, 2]), tensor([-0.4448,  0.6388]), tensor([True, True]))"
      ]
     },
     "execution_count": 34,
     "metadata": {},
     "output_type": "execute_result"
    }
   ],
   "source": [
    "C[xs].shape, C[xs][1, 4], C[xs][1, 4] == C[5] "
   ]
  }
 ],
 "metadata": {
  "kernelspec": {
   "display_name": "Python 3 (ipykernel)",
   "language": "python",
   "name": "python3"
  },
  "language_info": {
   "codemirror_mode": {
    "name": "ipython",
    "version": 3
   },
   "file_extension": ".py",
   "mimetype": "text/x-python",
   "name": "python",
   "nbconvert_exporter": "python",
   "pygments_lexer": "ipython3",
   "version": "3.7.16"
  }
 },
 "nbformat": 4,
 "nbformat_minor": 5
}

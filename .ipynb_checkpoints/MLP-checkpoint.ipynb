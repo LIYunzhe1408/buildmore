{
 "cells": [
  {
   "cell_type": "markdown",
   "id": "ba5b6988",
   "metadata": {},
   "source": [
    "We currently have a model that can deal with one character of previous context. But the precition was not good enough.\n",
    "\n",
    "* More context? way too many rows => expensive to calculate\n",
    "* MLP"
   ]
  },
  {
   "cell_type": "code",
   "execution_count": 1,
   "id": "f3886184",
   "metadata": {},
   "outputs": [],
   "source": [
    "import torch\n",
    "import torch.nn.functional as F"
   ]
  },
  {
   "cell_type": "markdown",
   "id": "9b61fff8",
   "metadata": {},
   "source": [
    "# Data"
   ]
  },
  {
   "cell_type": "code",
   "execution_count": 2,
   "id": "159617fd",
   "metadata": {},
   "outputs": [
    {
     "data": {
      "text/plain": [
       "['emma',\n",
       " 'olivia',\n",
       " 'ava',\n",
       " 'isabella',\n",
       " 'sophia',\n",
       " 'charlotte',\n",
       " 'mia',\n",
       " 'amelia',\n",
       " 'harper',\n",
       " 'evelyn']"
      ]
     },
     "execution_count": 2,
     "metadata": {},
     "output_type": "execute_result"
    }
   ],
   "source": [
    "names = open(\"names.txt\").read().splitlines()\n",
    "names[:10]"
   ]
  },
  {
   "cell_type": "code",
   "execution_count": 3,
   "id": "bce38bd5",
   "metadata": {},
   "outputs": [
    {
     "data": {
      "text/plain": [
       "27"
      ]
     },
     "execution_count": 3,
     "metadata": {},
     "output_type": "execute_result"
    }
   ],
   "source": [
    "vocab = sorted(set(''.join(names)))\n",
    "vocab = [\".\"] + vocab\n",
    "len(vocab)"
   ]
  },
  {
   "cell_type": "code",
   "execution_count": 4,
   "id": "4beb322c",
   "metadata": {},
   "outputs": [],
   "source": [
    "stoi = {s:i for i, s in enumerate(vocab)}\n",
    "itos = {i:s for s, i in stoi.items()}"
   ]
  },
  {
   "cell_type": "code",
   "execution_count": 5,
   "id": "69491400",
   "metadata": {},
   "outputs": [
    {
     "name": "stdout",
     "output_type": "stream",
     "text": [
      "emma\n",
      "..... -------> e\n",
      "....e -------> m\n",
      "...em -------> m\n",
      "..emm -------> a\n",
      ".emma -------> .\n",
      "olivia\n",
      "..... -------> o\n",
      "....o -------> l\n",
      "...ol -------> i\n",
      "..oli -------> v\n",
      ".oliv -------> i\n",
      "olivi -------> a\n",
      "livia -------> .\n",
      "ava\n",
      "..... -------> a\n",
      "....a -------> v\n",
      "...av -------> a\n",
      "..ava -------> .\n",
      "isabella\n",
      "..... -------> i\n",
      "....i -------> s\n",
      "...is -------> a\n",
      "..isa -------> b\n",
      ".isab -------> e\n",
      "isabe -------> l\n",
      "sabel -------> l\n",
      "abell -------> a\n",
      "bella -------> .\n",
      "sophia\n",
      "..... -------> s\n",
      "....s -------> o\n",
      "...so -------> p\n",
      "..sop -------> h\n",
      ".soph -------> i\n",
      "sophi -------> a\n",
      "ophia -------> .\n"
     ]
    }
   ],
   "source": [
    "block_size = 5 # context length\n",
    "xs, ys = [], []\n",
    "\n",
    "for name in names[:5]:\n",
    "    context = [0] * block_size\n",
    "    print(name)\n",
    "    for ch in name+\".\":\n",
    "        idx = stoi[ch]\n",
    "        xs.append(context)\n",
    "        ys.append(idx)\n",
    "        print(f\"{''.join([itos[i] for i in context])} -------> {itos[idx]}\")\n",
    "        context = context[1:] + [idx]\n",
    "xs, ys = torch.tensor(xs), torch.tensor(ys)"
   ]
  },
  {
   "cell_type": "code",
   "execution_count": 6,
   "id": "ceaa509f",
   "metadata": {},
   "outputs": [
    {
     "data": {
      "text/plain": [
       "(torch.Size([32, 5]), torch.int64, torch.Size([32]), torch.int64)"
      ]
     },
     "execution_count": 6,
     "metadata": {},
     "output_type": "execute_result"
    }
   ],
   "source": [
    "xs.shape, xs.dtype, ys.shape, ys.dtype"
   ]
  },
  {
   "cell_type": "markdown",
   "id": "58e8d8c4",
   "metadata": {},
   "source": [
    "# Embedding"
   ]
  },
  {
   "cell_type": "markdown",
   "id": "dbef8cff",
   "metadata": {},
   "source": [
    "Our vocab size is 27 and we want to map them into 2-D space. In original paper from Bengio, they have 17,000 words and then map them into 30-D space."
   ]
  },
  {
   "cell_type": "code",
   "execution_count": 7,
   "id": "bfbe7142",
   "metadata": {},
   "outputs": [
    {
     "data": {
      "text/plain": [
       "tensor([[-0.4131, -0.0551],\n",
       "        [-0.1361, -0.2084],\n",
       "        [ 0.5974,  0.4307],\n",
       "        [ 0.4001,  0.7031],\n",
       "        [-0.0385, -0.8782],\n",
       "        [ 1.6016,  1.0163],\n",
       "        [-0.1608, -0.5976],\n",
       "        [ 0.3574, -0.1388],\n",
       "        [ 0.8116, -1.0007],\n",
       "        [ 0.5179,  0.2517],\n",
       "        [-0.3108,  0.2666],\n",
       "        [ 0.3383, -2.5546],\n",
       "        [-0.7341, -0.6211],\n",
       "        [-0.4486, -0.3803],\n",
       "        [-1.6594, -2.8194],\n",
       "        [ 0.4599,  0.6645],\n",
       "        [-2.1260, -0.3983],\n",
       "        [-0.5086,  0.6481],\n",
       "        [-0.1754, -0.6186],\n",
       "        [ 0.0508,  0.6391],\n",
       "        [-0.2584,  0.7166],\n",
       "        [ 2.4814, -0.5229],\n",
       "        [-2.1862,  0.3440],\n",
       "        [-0.7775,  0.8753],\n",
       "        [-0.3211,  0.8242],\n",
       "        [ 0.1115,  0.6870],\n",
       "        [ 0.1554,  0.3896]])"
      ]
     },
     "execution_count": 7,
     "metadata": {},
     "output_type": "execute_result"
    }
   ],
   "source": [
    "C = torch.randn([27, 2])\n",
    "C"
   ]
  },
  {
   "cell_type": "code",
   "execution_count": 8,
   "id": "5f4a58c4",
   "metadata": {},
   "outputs": [
    {
     "data": {
      "text/plain": [
       "(tensor([1.6016, 1.0163]), tensor([True, True]))"
      ]
     },
     "execution_count": 8,
     "metadata": {},
     "output_type": "execute_result"
    }
   ],
   "source": [
    "xenc = F.one_hot(torch.tensor(5), num_classes=27).float()\n",
    "# which is equal to C[5]\n",
    "# 5 th row will be plucked out.\n",
    "C[5], C[5] == xenc @ C"
   ]
  },
  {
   "cell_type": "code",
   "execution_count": 9,
   "id": "7dea8f45",
   "metadata": {},
   "outputs": [
    {
     "data": {
      "text/plain": [
       "tensor([[ 0,  0,  0,  0,  0],\n",
       "        [ 0,  0,  0,  0,  5],\n",
       "        [ 0,  0,  0,  5, 13],\n",
       "        [ 0,  0,  5, 13, 13],\n",
       "        [ 0,  5, 13, 13,  1],\n",
       "        [ 0,  0,  0,  0,  0],\n",
       "        [ 0,  0,  0,  0, 15],\n",
       "        [ 0,  0,  0, 15, 12],\n",
       "        [ 0,  0, 15, 12,  9],\n",
       "        [ 0, 15, 12,  9, 22],\n",
       "        [15, 12,  9, 22,  9],\n",
       "        [12,  9, 22,  9,  1],\n",
       "        [ 0,  0,  0,  0,  0],\n",
       "        [ 0,  0,  0,  0,  1],\n",
       "        [ 0,  0,  0,  1, 22],\n",
       "        [ 0,  0,  1, 22,  1],\n",
       "        [ 0,  0,  0,  0,  0],\n",
       "        [ 0,  0,  0,  0,  9],\n",
       "        [ 0,  0,  0,  9, 19],\n",
       "        [ 0,  0,  9, 19,  1],\n",
       "        [ 0,  9, 19,  1,  2],\n",
       "        [ 9, 19,  1,  2,  5],\n",
       "        [19,  1,  2,  5, 12],\n",
       "        [ 1,  2,  5, 12, 12],\n",
       "        [ 2,  5, 12, 12,  1],\n",
       "        [ 0,  0,  0,  0,  0],\n",
       "        [ 0,  0,  0,  0, 19],\n",
       "        [ 0,  0,  0, 19, 15],\n",
       "        [ 0,  0, 19, 15, 16],\n",
       "        [ 0, 19, 15, 16,  8],\n",
       "        [19, 15, 16,  8,  9],\n",
       "        [15, 16,  8,  9,  1]])"
      ]
     },
     "execution_count": 9,
     "metadata": {},
     "output_type": "execute_result"
    }
   ],
   "source": [
    "xs"
   ]
  },
  {
   "cell_type": "code",
   "execution_count": 10,
   "id": "22450fda",
   "metadata": {},
   "outputs": [
    {
     "data": {
      "text/plain": [
       "(torch.Size([32, 5, 2]), tensor([1.6016, 1.0163]), tensor([True, True]))"
      ]
     },
     "execution_count": 10,
     "metadata": {},
     "output_type": "execute_result"
    }
   ],
   "source": [
    "C[xs].shape, C[xs][1, 4], C[xs][1, 4] == C[5] "
   ]
  },
  {
   "cell_type": "code",
   "execution_count": 11,
   "id": "6c1f2c7c",
   "metadata": {},
   "outputs": [
    {
     "data": {
      "text/plain": [
       "torch.Size([32, 5, 2])"
      ]
     },
     "execution_count": 11,
     "metadata": {},
     "output_type": "execute_result"
    }
   ],
   "source": [
    "emb = C[xs]\n",
    "emb.shape"
   ]
  },
  {
   "cell_type": "markdown",
   "id": "6179a21e",
   "metadata": {},
   "source": [
    "# Hidden Layer"
   ]
  },
  {
   "cell_type": "code",
   "execution_count": 12,
   "id": "239a6bb2",
   "metadata": {},
   "outputs": [
    {
     "ename": "RuntimeError",
     "evalue": "mat1 and mat2 shapes cannot be multiplied (160x2 and 10x100)",
     "output_type": "error",
     "traceback": [
      "\u001b[1;31m---------------------------------------------------------------------------\u001b[0m",
      "\u001b[1;31mRuntimeError\u001b[0m                              Traceback (most recent call last)",
      "\u001b[1;32m~\\AppData\\Local\\Temp\\ipykernel_23920\\3803010932.py\u001b[0m in \u001b[0;36m<module>\u001b[1;34m\u001b[0m\n\u001b[0;32m      1\u001b[0m \u001b[0mW\u001b[0m \u001b[1;33m=\u001b[0m \u001b[0mtorch\u001b[0m\u001b[1;33m.\u001b[0m\u001b[0mrandn\u001b[0m\u001b[1;33m(\u001b[0m\u001b[1;33m[\u001b[0m\u001b[1;36m10\u001b[0m\u001b[1;33m,\u001b[0m \u001b[1;36m100\u001b[0m\u001b[1;33m]\u001b[0m\u001b[1;33m)\u001b[0m\u001b[1;33m\u001b[0m\u001b[1;33m\u001b[0m\u001b[0m\n\u001b[1;32m----> 2\u001b[1;33m \u001b[0memb\u001b[0m \u001b[1;33m@\u001b[0m \u001b[0mW\u001b[0m\u001b[1;33m\u001b[0m\u001b[1;33m\u001b[0m\u001b[0m\n\u001b[0m",
      "\u001b[1;31mRuntimeError\u001b[0m: mat1 and mat2 shapes cannot be multiplied (160x2 and 10x100)"
     ]
    }
   ],
   "source": [
    "W = torch.randn([10, 100])\n",
    "emb @ W"
   ]
  },
  {
   "cell_type": "code",
   "execution_count": 13,
   "id": "31cdebf2",
   "metadata": {},
   "outputs": [
    {
     "data": {
      "text/plain": [
       "torch.Size([32, 100])"
      ]
     },
     "execution_count": 13,
     "metadata": {},
     "output_type": "execute_result"
    }
   ],
   "source": [
    "# Method 1: Extract and concat\n",
    "concated_1 = torch.concat((emb[:, 0, :], emb[:, 1, :], emb[:, 2, :], emb[:, 3, :], emb[:, 4, :]), dim=1)\n",
    "(concated_1 @ W).shape"
   ]
  },
  {
   "cell_type": "code",
   "execution_count": 14,
   "id": "a2a4b1b2",
   "metadata": {},
   "outputs": [
    {
     "data": {
      "text/plain": [
       "torch.Size([32, 100])"
      ]
     },
     "execution_count": 14,
     "metadata": {},
     "output_type": "execute_result"
    }
   ],
   "source": [
    "# Method 2: Unbind\n",
    "unbind_emb = torch.unbind(emb, dim=1)\n",
    "concated_2 = torch.concat(unbind_emb, dim=1)\n",
    "(concated_2 @ W).shape"
   ]
  },
  {
   "cell_type": "code",
   "execution_count": 15,
   "id": "51d4a2ec",
   "metadata": {},
   "outputs": [
    {
     "data": {
      "text/plain": [
       "(tensor([[True, True, True, True, True, True, True, True, True, True],\n",
       "         [True, True, True, True, True, True, True, True, True, True],\n",
       "         [True, True, True, True, True, True, True, True, True, True],\n",
       "         [True, True, True, True, True, True, True, True, True, True],\n",
       "         [True, True, True, True, True, True, True, True, True, True],\n",
       "         [True, True, True, True, True, True, True, True, True, True],\n",
       "         [True, True, True, True, True, True, True, True, True, True],\n",
       "         [True, True, True, True, True, True, True, True, True, True],\n",
       "         [True, True, True, True, True, True, True, True, True, True],\n",
       "         [True, True, True, True, True, True, True, True, True, True],\n",
       "         [True, True, True, True, True, True, True, True, True, True],\n",
       "         [True, True, True, True, True, True, True, True, True, True],\n",
       "         [True, True, True, True, True, True, True, True, True, True],\n",
       "         [True, True, True, True, True, True, True, True, True, True],\n",
       "         [True, True, True, True, True, True, True, True, True, True],\n",
       "         [True, True, True, True, True, True, True, True, True, True],\n",
       "         [True, True, True, True, True, True, True, True, True, True],\n",
       "         [True, True, True, True, True, True, True, True, True, True],\n",
       "         [True, True, True, True, True, True, True, True, True, True],\n",
       "         [True, True, True, True, True, True, True, True, True, True],\n",
       "         [True, True, True, True, True, True, True, True, True, True],\n",
       "         [True, True, True, True, True, True, True, True, True, True],\n",
       "         [True, True, True, True, True, True, True, True, True, True],\n",
       "         [True, True, True, True, True, True, True, True, True, True],\n",
       "         [True, True, True, True, True, True, True, True, True, True],\n",
       "         [True, True, True, True, True, True, True, True, True, True],\n",
       "         [True, True, True, True, True, True, True, True, True, True],\n",
       "         [True, True, True, True, True, True, True, True, True, True],\n",
       "         [True, True, True, True, True, True, True, True, True, True],\n",
       "         [True, True, True, True, True, True, True, True, True, True],\n",
       "         [True, True, True, True, True, True, True, True, True, True],\n",
       "         [True, True, True, True, True, True, True, True, True, True]]),\n",
       " tensor([[True, True, True, True, True, True, True, True, True, True],\n",
       "         [True, True, True, True, True, True, True, True, True, True],\n",
       "         [True, True, True, True, True, True, True, True, True, True],\n",
       "         [True, True, True, True, True, True, True, True, True, True],\n",
       "         [True, True, True, True, True, True, True, True, True, True],\n",
       "         [True, True, True, True, True, True, True, True, True, True],\n",
       "         [True, True, True, True, True, True, True, True, True, True],\n",
       "         [True, True, True, True, True, True, True, True, True, True],\n",
       "         [True, True, True, True, True, True, True, True, True, True],\n",
       "         [True, True, True, True, True, True, True, True, True, True],\n",
       "         [True, True, True, True, True, True, True, True, True, True],\n",
       "         [True, True, True, True, True, True, True, True, True, True],\n",
       "         [True, True, True, True, True, True, True, True, True, True],\n",
       "         [True, True, True, True, True, True, True, True, True, True],\n",
       "         [True, True, True, True, True, True, True, True, True, True],\n",
       "         [True, True, True, True, True, True, True, True, True, True],\n",
       "         [True, True, True, True, True, True, True, True, True, True],\n",
       "         [True, True, True, True, True, True, True, True, True, True],\n",
       "         [True, True, True, True, True, True, True, True, True, True],\n",
       "         [True, True, True, True, True, True, True, True, True, True],\n",
       "         [True, True, True, True, True, True, True, True, True, True],\n",
       "         [True, True, True, True, True, True, True, True, True, True],\n",
       "         [True, True, True, True, True, True, True, True, True, True],\n",
       "         [True, True, True, True, True, True, True, True, True, True],\n",
       "         [True, True, True, True, True, True, True, True, True, True],\n",
       "         [True, True, True, True, True, True, True, True, True, True],\n",
       "         [True, True, True, True, True, True, True, True, True, True],\n",
       "         [True, True, True, True, True, True, True, True, True, True],\n",
       "         [True, True, True, True, True, True, True, True, True, True],\n",
       "         [True, True, True, True, True, True, True, True, True, True],\n",
       "         [True, True, True, True, True, True, True, True, True, True],\n",
       "         [True, True, True, True, True, True, True, True, True, True]]))"
      ]
     },
     "execution_count": 15,
     "metadata": {},
     "output_type": "execute_result"
    }
   ],
   "source": [
    "# Method 3: View\n",
    "viewed_emb = emb.view(32, -1)\n",
    "concated_1 == concated_2, concated_1 == viewed_emb"
   ]
  },
  {
   "cell_type": "code",
   "execution_count": 16,
   "id": "012f7397",
   "metadata": {},
   "outputs": [
    {
     "data": {
      "text/plain": [
       "torch.Size([32, 100])"
      ]
     },
     "execution_count": 16,
     "metadata": {},
     "output_type": "execute_result"
    }
   ],
   "source": [
    "b = torch.rand(100)\n",
    "hidden = emb.view(32, -1) @ W + b # b is broadcasted. emb: [32, 100] b: [1, 100] -> [32, 100]\n",
    "hiddden_out = torch.tanh(hidden)\n",
    "hiddden_out.shape"
   ]
  },
  {
   "cell_type": "markdown",
   "id": "6bed8024",
   "metadata": {},
   "source": [
    "# Output Layer"
   ]
  },
  {
   "cell_type": "code",
   "execution_count": 35,
   "id": "2bd8f9d3",
   "metadata": {},
   "outputs": [],
   "source": [
    "W2 = torch.randn([100, 27])\n",
    "b2 = torch.randn(27)\n",
    "logits = hiddden_out @ W2 + b2"
   ]
  },
  {
   "cell_type": "markdown",
   "id": "3c342383",
   "metadata": {},
   "source": [
    "Previously how we did"
   ]
  },
  {
   "cell_type": "code",
   "execution_count": 36,
   "id": "9fabd0d4",
   "metadata": {},
   "outputs": [
    {
     "data": {
      "text/plain": [
       "(torch.Size([32, 27]), tensor(1.0000))"
      ]
     },
     "execution_count": 36,
     "metadata": {},
     "output_type": "execute_result"
    }
   ],
   "source": [
    "logits = hiddden_out @ W2 + b2\n",
    "counts = logits.exp()\n",
    "probs = counts / counts.sum(dim=1, keepdim=True)\n",
    "probs.shape, probs[0].sum()"
   ]
  },
  {
   "cell_type": "code",
   "execution_count": 37,
   "id": "a4ed63ac",
   "metadata": {},
   "outputs": [
    {
     "data": {
      "text/plain": [
       "(torch.Size([32]),\n",
       " tensor([2.0493e-07, 1.2585e-07, 2.8754e-12, 1.0543e-05, 2.2118e-06, 4.0500e-07,\n",
       "         9.7637e-07, 2.2095e-09, 1.1765e-07, 3.1710e-11, 1.1918e-03, 1.0476e-08,\n",
       "         1.6969e-06, 6.2076e-05, 4.3031e-08, 4.8551e-06, 1.7727e-07, 2.2477e-07,\n",
       "         4.5843e-08, 1.6284e-07, 7.0345e-06, 3.1205e-09, 1.4766e-09, 4.1119e-07,\n",
       "         6.2726e-08, 1.9470e-06, 5.7198e-10, 2.1182e-02, 4.6109e-08, 1.1464e-02,\n",
       "         1.5935e-13, 3.3557e-11]))"
      ]
     },
     "execution_count": 37,
     "metadata": {},
     "output_type": "execute_result"
    }
   ],
   "source": [
    "output = probs[torch.arange(32), ys] # Output prob at correct position, ideally all of them should be 1\n",
    "output.shape, output"
   ]
  },
  {
   "cell_type": "code",
   "execution_count": 38,
   "id": "f05d8629",
   "metadata": {},
   "outputs": [
    {
     "data": {
      "text/plain": [
       "tensor(15.8728)"
      ]
     },
     "execution_count": 38,
     "metadata": {},
     "output_type": "execute_result"
    }
   ],
   "source": [
    "loss = -output.log().mean()\n",
    "loss"
   ]
  },
  {
   "cell_type": "markdown",
   "id": "013aebd3",
   "metadata": {},
   "source": [
    "More efficient in torch"
   ]
  },
  {
   "cell_type": "code",
   "execution_count": 45,
   "id": "423fce5f",
   "metadata": {},
   "outputs": [
    {
     "data": {
      "text/plain": [
       "(tensor([6.7379e-03, 1.4841e+02,        inf]),\n",
       " tensor([0.0000e+00, 5.5211e-42, 1.0000e+00]))"
      ]
     },
     "execution_count": 45,
     "metadata": {},
     "output_type": "execute_result"
    }
   ],
   "source": [
    "test_x = torch.tensor([-5, 5, 100])\n",
    "how_torch_did_test_x = test_x - 100\n",
    "test_x.exp(), how_torch_did_test_x.exp()"
   ]
  },
  {
   "cell_type": "code",
   "execution_count": 39,
   "id": "4584c868",
   "metadata": {},
   "outputs": [
    {
     "data": {
      "text/plain": [
       "tensor(15.8728)"
      ]
     },
     "execution_count": 39,
     "metadata": {},
     "output_type": "execute_result"
    }
   ],
   "source": [
    "loss_torch = F.cross_entropy(logits, ys)\n",
    "loss_torch"
   ]
  },
  {
   "cell_type": "markdown",
   "id": "f5e9d970",
   "metadata": {},
   "source": [
    "# Put above together"
   ]
  },
  {
   "cell_type": "code",
   "execution_count": 47,
   "id": "6d63639c",
   "metadata": {},
   "outputs": [
    {
     "data": {
      "text/plain": [
       "(torch.Size([32, 5]), torch.Size([32]))"
      ]
     },
     "execution_count": 47,
     "metadata": {},
     "output_type": "execute_result"
    }
   ],
   "source": [
    "xs.shape, ys.shape"
   ]
  },
  {
   "cell_type": "code",
   "execution_count": 48,
   "id": "82a65001",
   "metadata": {},
   "outputs": [],
   "source": [
    "g = torch.Generator().manual_seed(2147483647)\n",
    "C = torch.randn([27, 2], generator=g) # 32x5x27 * 27* 2 => 32x5x2\n",
    "W1 = torch.randn([10, 100], generator=g)\n",
    "b1 = torch.randn(100, generator=g)\n",
    "W2 = torch.randn([100, 27], generator=g)\n",
    "b2 = torch.randn(27, generator=g)\n",
    "parameters = [C, W1, b1, W2, b2]"
   ]
  },
  {
   "cell_type": "code",
   "execution_count": 51,
   "id": "b3b75e21",
   "metadata": {},
   "outputs": [
    {
     "data": {
      "text/plain": [
       "3881"
      ]
     },
     "execution_count": 51,
     "metadata": {},
     "output_type": "execute_result"
    }
   ],
   "source": [
    "sum(p.nelement() for p in parameters)"
   ]
  },
  {
   "cell_type": "code",
   "execution_count": 52,
   "id": "13f6b66a",
   "metadata": {},
   "outputs": [],
   "source": [
    "# Fordward Pass\n",
    "emb = C[xs]\n",
    "h = torch.tanh(emb.view(32, -1) @ W1 + b1)\n",
    "logits = h @ W2 + b2\n",
    "loss = F.cross_entropy(logits, ys)"
   ]
  }
 ],
 "metadata": {
  "kernelspec": {
   "display_name": "Python 3 (ipykernel)",
   "language": "python",
   "name": "python3"
  },
  "language_info": {
   "codemirror_mode": {
    "name": "ipython",
    "version": 3
   },
   "file_extension": ".py",
   "mimetype": "text/x-python",
   "name": "python",
   "nbconvert_exporter": "python",
   "pygments_lexer": "ipython3",
   "version": "3.7.16"
  }
 },
 "nbformat": 4,
 "nbformat_minor": 5
}

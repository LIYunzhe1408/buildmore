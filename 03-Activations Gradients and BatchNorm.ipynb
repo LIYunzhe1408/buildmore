{
 "cells": [
  {
   "cell_type": "code",
   "execution_count": 1,
   "id": "1492d18f",
   "metadata": {},
   "outputs": [],
   "source": [
    "import torch\n",
    "import torch.nn.functional as F\n",
    "import matplotlib.pyplot as plt\n",
    "%matplotlib inline"
   ]
  },
  {
   "cell_type": "markdown",
   "id": "9e6eb0e9",
   "metadata": {},
   "source": [
    "# Starter\n",
    "* Data -> Build Dataset -> split dataset\n",
    "* vocab\n",
    "* init_MLP_params\n",
    "* training\n",
    "* loss\n",
    "* sampling"
   ]
  },
  {
   "cell_type": "code",
   "execution_count": 2,
   "id": "950b7570",
   "metadata": {},
   "outputs": [
    {
     "data": {
      "text/plain": [
       "(32033,\n",
       " ['emma',\n",
       "  'olivia',\n",
       "  'ava',\n",
       "  'isabella',\n",
       "  'sophia',\n",
       "  'charlotte',\n",
       "  'mia',\n",
       "  'amelia',\n",
       "  'harper',\n",
       "  'evelyn'])"
      ]
     },
     "execution_count": 2,
     "metadata": {},
     "output_type": "execute_result"
    }
   ],
   "source": [
    "words = open(\"names.txt\").read().splitlines()\n",
    "len(words), words[:10]"
   ]
  },
  {
   "cell_type": "code",
   "execution_count": 3,
   "id": "13d45547",
   "metadata": {},
   "outputs": [],
   "source": [
    "vocab = sorted(set(''.join(words)))\n",
    "\n",
    "stoi = {s: i+1 for i, s in enumerate(vocab)}\n",
    "stoi[\".\"] = 0\n",
    "itos = {i: s for s, i in stoi.items()}\n",
    "\n",
    "vocab_size = len(itos) # Used for initiate emb lookup table"
   ]
  },
  {
   "cell_type": "code",
   "execution_count": 4,
   "id": "d3d74fd4",
   "metadata": {},
   "outputs": [
    {
     "name": "stdout",
     "output_type": "stream",
     "text": [
      "torch.Size([182625, 3]) torch.Size([182625])\n",
      "torch.Size([22655, 3]) torch.Size([22655])\n",
      "torch.Size([22866, 3]) torch.Size([22866])\n"
     ]
    }
   ],
   "source": [
    "block_size = 3\n",
    "def build_dataset(words):\n",
    "    xs, ys = [], []\n",
    "    for word in words:\n",
    "        context = [0] * block_size\n",
    "        for ch in word+\".\":\n",
    "            idx = stoi[ch]\n",
    "            xs.append(context), ys.append(idx)\n",
    "            context = context[1:] + [idx]\n",
    "    xs, ys = torch.tensor(xs), torch.tensor(ys)\n",
    "    print(xs.shape, ys.shape)\n",
    "    return xs, ys\n",
    "\n",
    "import random\n",
    "random.seed(42)\n",
    "random.shuffle(words)\n",
    "train_idx = int(0.8 * len(words))\n",
    "val_idx   = int(0.9 * len(words))\n",
    "\n",
    "x_train, y_train = build_dataset(words[:train_idx])\n",
    "x_val  , y_val   = build_dataset(words[train_idx:val_idx])\n",
    "x_test , y_test  = build_dataset(words[val_idx:])"
   ]
  },
  {
   "cell_type": "markdown",
   "id": "c4a8efbd",
   "metadata": {},
   "source": [
    "Kaiming Initing"
   ]
  },
  {
   "cell_type": "code",
   "execution_count": 5,
   "id": "58c14611",
   "metadata": {},
   "outputs": [
    {
     "name": "stdout",
     "output_type": "stream",
     "text": [
      "mean: -0.01244, 0.003049\n",
      "std : 0.9934, 0.9967\n"
     ]
    },
    {
     "data": {
      "text/plain": [
       "(array([3.0000e+00, 4.0000e+00, 6.0000e+00, 1.0000e+01, 1.3000e+01,\n",
       "        3.6000e+01, 6.3000e+01, 9.0000e+01, 1.4800e+02, 2.3200e+02,\n",
       "        3.6600e+02, 5.3900e+02, 8.4300e+02, 1.2270e+03, 1.7530e+03,\n",
       "        2.5020e+03, 3.4630e+03, 4.6340e+03, 6.2800e+03, 7.9470e+03,\n",
       "        1.0025e+04, 1.2184e+04, 1.3926e+04, 1.5206e+04, 1.6425e+04,\n",
       "        1.6457e+04, 1.5795e+04, 1.4462e+04, 1.2554e+04, 1.0339e+04,\n",
       "        8.5070e+03, 6.6820e+03, 4.9810e+03, 3.6800e+03, 2.7750e+03,\n",
       "        1.9660e+03, 1.2980e+03, 9.3200e+02, 5.9400e+02, 3.8300e+02,\n",
       "        2.7100e+02, 1.5300e+02, 9.7000e+01, 6.1000e+01, 4.0000e+01,\n",
       "        2.6000e+01, 1.1000e+01, 5.0000e+00, 5.0000e+00, 1.0000e+00]),\n",
       " array([-4.86668158, -4.67281798, -4.47895439, -4.2850908 , -4.09122721,\n",
       "        -3.89736362, -3.70350002, -3.50963643, -3.31577284, -3.12190925,\n",
       "        -2.92804565, -2.73418206, -2.54031847, -2.34645488, -2.15259129,\n",
       "        -1.95872769, -1.7648641 , -1.57100051, -1.37713692, -1.18327332,\n",
       "        -0.98940973, -0.79554614, -0.60168255, -0.40781896, -0.21395536,\n",
       "        -0.02009177,  0.17377182,  0.36763541,  0.561499  ,  0.7553626 ,\n",
       "         0.94922619,  1.14308978,  1.33695337,  1.53081697,  1.72468056,\n",
       "         1.91854415,  2.11240774,  2.30627133,  2.50013493,  2.69399852,\n",
       "         2.88786211,  3.0817257 ,  3.27558929,  3.46945289,  3.66331648,\n",
       "         3.85718007,  4.05104366,  4.24490726,  4.43877085,  4.63263444,\n",
       "         4.82649803]),\n",
       " <BarContainer object of 50 artists>)"
      ]
     },
     "execution_count": 5,
     "metadata": {},
     "output_type": "execute_result"
    },
    {
     "data": {
      "image/png": "[encoded data removed]",
      "text/plain": [
       "<Figure size 2000x500 with 2 Axes>"
      ]
     },
     "metadata": {},
     "output_type": "display_data"
    }
   ],
   "source": [
    "x = torch.randn((1000, 10))\n",
    "w = torch.randn((10, 200))\n",
    "w = torch.randn((10, 200)) / 10 ** 0.5\n",
    "y = x @ w\n",
    "print(f\"mean: {x.mean():.4}, {y.mean():.4}\")\n",
    "print(f\"std : {x.std():.4}, {y.std():.4}\")\n",
    "plt.figure(figsize=(20, 5))\n",
    "plt.subplot(1, 2, 1)\n",
    "plt.hist(x.view(-1).tolist(), 50)\n",
    "plt.subplot(1, 2, 2)\n",
    "plt.hist(y.view(-1).tolist(), 50)\n",
    "# We need to scale the w to have y.std() close to 1."
   ]
  },
  {
   "cell_type": "markdown",
   "id": "10218389",
   "metadata": {},
   "source": [
    "scale: $\\frac{gain}{\\sqrt{fan-mode}}$"
   ]
  },
  {
   "cell_type": "code",
   "execution_count": 10,
   "id": "c69fd40f",
   "metadata": {},
   "outputs": [
    {
     "data": {
      "text/plain": [
       "0.3042903097250923"
      ]
     },
     "execution_count": 10,
     "metadata": {},
     "output_type": "execute_result"
    }
   ],
   "source": [
    "w_scale = (5 / 3) / (block_size * emb_dim)**0.5\n",
    "w_scale"
   ]
  },
  {
   "cell_type": "code",
   "execution_count": 37,
   "id": "9aa844c6",
   "metadata": {},
   "outputs": [
    {
     "name": "stdout",
     "output_type": "stream",
     "text": [
      "Parameter number: 12297\n"
     ]
    }
   ],
   "source": [
    "emb_dim = 10\n",
    "hidden_dim = 200\n",
    "\n",
    "g = torch.Generator().manual_seed(2147483647)\n",
    "C = torch.randn((vocab_size, emb_dim)              , generator=g)\n",
    "W1 = torch.randn((block_size * emb_dim, hidden_dim), generator=g) * w_scale\n",
    "# b1 = torch.randn(hidden_dim                        , generator=g) * 0.01 # will never learn bc BN. Eliminateing when mean\n",
    "W2 = torch.randn((hidden_dim, vocab_size)          , generator=g) * 0.01\n",
    "b2 = torch.randn(vocab_size                        , generator=g) * 0\n",
    "\n",
    "# Batch Normalization parameters\n",
    "bngain = torch.ones((1, hidden_dim))\n",
    "bnbias = torch.zeros((1, hidden_dim))\n",
    "# Unlearnable buffers\n",
    "bnmean_running = torch.zeros((1, hidden_dim))\n",
    "bnstd_running = torch.ones((1, hidden_dim))\n",
    "\n",
    "parameters = [C, W1, b1, W2, b2, bngain, bnbias]\n",
    "\n",
    "print(f\"Parameter number: {sum([p.nelement() for p in parameters])}\")\n",
    "for p in parameters:\n",
    "    p.requires_grad = True"
   ]
  },
  {
   "cell_type": "markdown",
   "id": "c6208320",
   "metadata": {},
   "source": [
    "For the loss at first step, it was `27.8817` which is very large. It means that the model is very confidently wrong. Ideally, we expect the uniform probs distribution at initialization."
   ]
  },
  {
   "cell_type": "code",
   "execution_count": 12,
   "id": "6c744ec9",
   "metadata": {},
   "outputs": [
    {
     "data": {
      "text/plain": [
       "tensor(0.3126)"
      ]
     },
     "execution_count": 12,
     "metadata": {},
     "output_type": "execute_result"
    }
   ],
   "source": [
    "logits = torch.tensor([-0.5, 0.1, 2, 0])\n",
    "probs = logits.exp() / logits.exp().sum(dim=0, keepdim=True)\n",
    "loss = -probs[2].log().mean()\n",
    "loss"
   ]
  },
  {
   "cell_type": "markdown",
   "id": "50b5e812",
   "metadata": {},
   "source": [
    "We are using Batch Normalization to control the statistics of activations in the neural net. It is common to place a Batch Normalization Layer after layers that have multiplication like the linear layer, and the convolutional layer.\n",
    "\n",
    "Batch Normalization internally:\n",
    "* Has parameters for the gain and the bias which is learnt through backprop\n",
    "* Two buffers: mean and std. Not trained.\n",
    "\n",
    "Really it was doing was:\n",
    "* Calculating the mean and the std of activations over that batch\n",
    "* Centering that batch to be unit gaussian\n",
    "* Offsetting and scaling it\n",
    "* Keeping track of the mean and std over the set"
   ]
  },
  {
   "cell_type": "code",
   "execution_count": 29,
   "id": "6a514085",
   "metadata": {},
   "outputs": [
    {
     "name": "stdout",
     "output_type": "stream",
     "text": [
      "      0/ 200000: 3.3147\n",
      "  10000/ 200000: 2.1984\n",
      "  20000/ 200000: 2.3375\n",
      "  30000/ 200000: 2.4359\n",
      "  40000/ 200000: 2.0119\n",
      "  50000/ 200000: 2.2595\n",
      "  60000/ 200000: 2.4775\n",
      "  70000/ 200000: 2.1020\n",
      "  80000/ 200000: 2.2788\n",
      "  90000/ 200000: 2.1862\n",
      " 100000/ 200000: 1.9474\n",
      " 110000/ 200000: 2.3010\n",
      " 120000/ 200000: 1.9837\n",
      " 130000/ 200000: 2.4523\n",
      " 140000/ 200000: 2.3839\n",
      " 150000/ 200000: 2.1987\n",
      " 160000/ 200000: 1.9733\n",
      " 170000/ 200000: 1.8668\n",
      " 180000/ 200000: 1.9973\n",
      " 190000/ 200000: 1.8347\n"
     ]
    }
   ],
   "source": [
    "max_steps  = 200000\n",
    "batch_size = 32\n",
    "lossi = []\n",
    "\n",
    "for i in range(max_steps):\n",
    "    # Mini batch construct\n",
    "    idx = torch.randint(0, x_train.shape[0], (batch_size,), generator=g)\n",
    "    Xb, Yb = x_train[idx], y_train[idx] \n",
    "    \n",
    "    # Fowrard pass\n",
    "    emb = C[Xb]\n",
    "    # Linear Layer\n",
    "    hpreact = emb.view(emb.shape[0], -1) @ W1 # + b1\n",
    "    # Batch Normalization\n",
    "    # ------------------------------------------------------------------\n",
    "    bnmean_i = hpreact.mean(dim=0, keepdim=True)\n",
    "    bnstd_i  = hpreact.std(dim=0, keepdim=True)\n",
    "    hpreact = (hpreact - bnmean_i) / bnstd_i # Normalize to be roughly gaussian\n",
    "    hpreact = bngain * hpreact + bnbias      # scale and shift to make it learn rather than exactly gaussian each iter.\n",
    "    with torch.no_grad():\n",
    "        bnmean_running = 0.999 * bnmean_running + 0.001 * bnmean_i\n",
    "        bnstd_running  = 0.999 * bnstd_running  + 0.001 * bnstd_i\n",
    "    # ------------------------------------------------------------------\n",
    "    # Non-linearity\n",
    "    h = torch.tanh(hpreact)\n",
    "    logits = h @ W2 + b2\n",
    "    loss = F.cross_entropy(logits, Yb)\n",
    "    \n",
    "    \n",
    "    # Backward\n",
    "    for p in parameters:\n",
    "        p.grad = None\n",
    "    loss.backward()\n",
    "    \n",
    "    # Update\n",
    "    lr = 0.1 if i < 100000  else 0.01\n",
    "    with torch.no_grad():\n",
    "        for p in parameters:\n",
    "            p += -lr * p.grad\n",
    "            \n",
    "    # Track stats\n",
    "    if i % 10000 == 0:\n",
    "        print(f\"{i:7d}/{max_steps:7d}: {loss.item():.4f}\")\n",
    "    lossi.append(loss.log10().item())"
   ]
  },
  {
   "cell_type": "code",
   "execution_count": 21,
   "id": "e1f20c6c",
   "metadata": {},
   "outputs": [
    {
     "data": {
      "text/plain": [
       "torch.Size([32, 200])"
      ]
     },
     "execution_count": 21,
     "metadata": {},
     "output_type": "execute_result"
    }
   ],
   "source": [
    "hpreact.shape"
   ]
  },
  {
   "cell_type": "code",
   "execution_count": 14,
   "id": "9ea551dc",
   "metadata": {},
   "outputs": [
    {
     "data": {
      "text/plain": [
       "<matplotlib.image.AxesImage at 0x1a79649bf08>"
      ]
     },
     "execution_count": 14,
     "metadata": {},
     "output_type": "execute_result"
    },
    {
     "data": {
      "image/png": "[encoded data removed]",
      "text/plain": [
       "<Figure size 640x480 with 1 Axes>"
      ]
     },
     "metadata": {},
     "output_type": "display_data"
    },
    {
     "data": {
      "image/png": "[encoded data removed]",
      "text/plain": [
       "<Figure size 2000x500 with 1 Axes>"
      ]
     },
     "metadata": {},
     "output_type": "display_data"
    }
   ],
   "source": [
    "# Activation of hidden state\n",
    "plt.hist(h.view(-1).tolist(), 50)\n",
    "plt.figure(figsize=(20, 5))\n",
    "plt.imshow(h.abs() > 0.99, cmap=\"gray\")"
   ]
  },
  {
   "cell_type": "code",
   "execution_count": 15,
   "id": "41ff18b3",
   "metadata": {},
   "outputs": [
    {
     "data": {
      "text/plain": [
       "(array([  4.,   3.,   0.,   6.,   4.,   8.,   9.,  14.,  32.,  30.,  39.,\n",
       "         69.,  68.,  73., 124., 156., 164., 192., 232., 291., 319., 368.,\n",
       "        630., 891., 491., 340., 310., 299., 224., 221., 173., 124., 112.,\n",
       "         92.,  67.,  43.,  49.,  31.,  34.,  21.,  17.,   8.,   3.,   4.,\n",
       "          5.,   1.,   1.,   1.,   2.,   1.]),\n",
       " array([-8.91665268, -8.53551273, -8.15437279, -7.77323284, -7.3920929 ,\n",
       "        -7.01095295, -6.629813  , -6.24867306, -5.86753311, -5.48639317,\n",
       "        -5.10525322, -4.72411327, -4.34297333, -3.96183338, -3.58069344,\n",
       "        -3.19955349, -2.81841354, -2.4372736 , -2.05613365, -1.67499371,\n",
       "        -1.29385376, -0.91271381, -0.53157387, -0.15043392,  0.23070602,\n",
       "         0.61184597,  0.99298592,  1.37412586,  1.75526581,  2.13640575,\n",
       "         2.5175457 ,  2.89868565,  3.27982559,  3.66096554,  4.04210548,\n",
       "         4.42324543,  4.80438538,  5.18552532,  5.56666527,  5.94780521,\n",
       "         6.32894516,  6.71008511,  7.09122505,  7.472365  ,  7.85350494,\n",
       "         8.23464489,  8.61578484,  8.99692478,  9.37806473,  9.75920467,\n",
       "        10.14034462]),\n",
       " <BarContainer object of 50 artists>)"
      ]
     },
     "execution_count": 15,
     "metadata": {},
     "output_type": "execute_result"
    },
    {
     "data": {
      "image/png": "[encoded data removed]",
      "text/plain": [
       "<Figure size 640x480 with 1 Axes>"
      ]
     },
     "metadata": {},
     "output_type": "display_data"
    }
   ],
   "source": [
    "# The range before hidden layer is saturated.\n",
    "plt.hist(hpreact.view(-1).tolist(), 50)"
   ]
  },
  {
   "cell_type": "code",
   "execution_count": 16,
   "id": "bba2e2ca",
   "metadata": {},
   "outputs": [
    {
     "data": {
      "text/plain": [
       "<matplotlib.image.AxesImage at 0x1a796b9cf48>"
      ]
     },
     "execution_count": 16,
     "metadata": {},
     "output_type": "execute_result"
    },
    {
     "data": {
      "image/png": "[encoded data removed]",
      "text/plain": [
       "<Figure size 640x480 with 1 Axes>"
      ]
     },
     "metadata": {},
     "output_type": "display_data"
    },
    {
     "data": {
      "image/png": "[encoded data removed]",
      "text/plain": [
       "<Figure size 2000x500 with 1 Axes>"
      ]
     },
     "metadata": {},
     "output_type": "display_data"
    }
   ],
   "source": [
    "# Activation of hidden state after refinement\n",
    "h_line = h.view(-1).tolist()\n",
    "plt.hist(h_line, 50)\n",
    "plt.figure(figsize=(20, 5))\n",
    "plt.imshow(h.abs() > 0.99, cmap=\"gray\")"
   ]
  },
  {
   "cell_type": "code",
   "execution_count": 17,
   "id": "bc120120",
   "metadata": {},
   "outputs": [
    {
     "data": {
      "text/plain": [
       "(array([  4.,   3.,   0.,   6.,   4.,   8.,   9.,  14.,  32.,  30.,  39.,\n",
       "         69.,  68.,  73., 124., 156., 164., 192., 232., 291., 319., 368.,\n",
       "        630., 891., 491., 340., 310., 299., 224., 221., 173., 124., 112.,\n",
       "         92.,  67.,  43.,  49.,  31.,  34.,  21.,  17.,   8.,   3.,   4.,\n",
       "          5.,   1.,   1.,   1.,   2.,   1.]),\n",
       " array([-8.91665268, -8.53551273, -8.15437279, -7.77323284, -7.3920929 ,\n",
       "        -7.01095295, -6.629813  , -6.24867306, -5.86753311, -5.48639317,\n",
       "        -5.10525322, -4.72411327, -4.34297333, -3.96183338, -3.58069344,\n",
       "        -3.19955349, -2.81841354, -2.4372736 , -2.05613365, -1.67499371,\n",
       "        -1.29385376, -0.91271381, -0.53157387, -0.15043392,  0.23070602,\n",
       "         0.61184597,  0.99298592,  1.37412586,  1.75526581,  2.13640575,\n",
       "         2.5175457 ,  2.89868565,  3.27982559,  3.66096554,  4.04210548,\n",
       "         4.42324543,  4.80438538,  5.18552532,  5.56666527,  5.94780521,\n",
       "         6.32894516,  6.71008511,  7.09122505,  7.472365  ,  7.85350494,\n",
       "         8.23464489,  8.61578484,  8.99692478,  9.37806473,  9.75920467,\n",
       "        10.14034462]),\n",
       " <BarContainer object of 50 artists>)"
      ]
     },
     "execution_count": 17,
     "metadata": {},
     "output_type": "execute_result"
    },
    {
     "data": {
      "image/png": "[encoded data removed]",
      "text/plain": [
       "<Figure size 640x480 with 1 Axes>"
      ]
     },
     "metadata": {},
     "output_type": "display_data"
    }
   ],
   "source": [
    "# The range before hidden layer is saturated.\n",
    "plt.hist(hpreact.view(-1).tolist(), 50)"
   ]
  },
  {
   "cell_type": "code",
   "execution_count": 18,
   "id": "34757762",
   "metadata": {},
   "outputs": [
    {
     "data": {
      "text/plain": [
       "[<matplotlib.lines.Line2D at 0x1a79a2f1388>]"
      ]
     },
     "execution_count": 18,
     "metadata": {},
     "output_type": "execute_result"
    },
    {
     "data": {
      "image/png": "[encoded data removed]",
      "text/plain": [
       "<Figure size 640x480 with 1 Axes>"
      ]
     },
     "metadata": {},
     "output_type": "display_data"
    }
   ],
   "source": [
    "plt.plot(torch.arange(len(lossi)), lossi)"
   ]
  },
  {
   "cell_type": "code",
   "execution_count": 32,
   "id": "c8c8d79f",
   "metadata": {},
   "outputs": [],
   "source": [
    "with torch.no_grad():\n",
    "    emb = C[x_train]\n",
    "    hpreact = emb.view(emb.shape[0], -1) @ W1 + b1\n",
    "    bnmean = hpreact.mean(dim=0, keepdim=True)\n",
    "    bnstd  = hpreact.std(dim=0, keepdim=True)"
   ]
  },
  {
   "cell_type": "code",
   "execution_count": 33,
   "id": "a7bbb398",
   "metadata": {},
   "outputs": [
    {
     "data": {
      "text/plain": [
       "tensor([[-2.3355,  0.6776, -0.9133,  1.0163,  1.0865,  1.0938,  1.7437, -2.1208,\n",
       "          0.5731,  1.4455, -1.6343, -2.7372, -0.4752, -0.1412, -0.0745, -1.1722,\n",
       "          0.6851, -2.6218, -0.1065,  1.6325, -0.7706, -0.3063,  0.0479,  0.6115,\n",
       "          1.1173,  0.2427,  2.0500,  0.5831,  0.8527,  1.7680, -0.3625, -0.8356,\n",
       "         -0.0854, -0.5177, -0.3806, -1.0698, -0.0786,  0.3487, -0.5808,  0.9875,\n",
       "         -0.4427, -1.3082, -0.2871, -0.2332,  0.6850,  0.6850,  2.0857, -0.7608,\n",
       "          2.3866,  1.8734,  0.8259,  0.2803,  1.8898,  0.4709,  0.6739, -1.8940,\n",
       "         -0.0401,  0.4338,  1.3760, -0.8910, -0.4524,  1.1754,  0.5613,  0.6051,\n",
       "          1.5858,  1.2261, -1.0111,  2.1495, -0.6392,  0.0938, -0.2864, -0.4856,\n",
       "          0.9632, -1.0461, -2.9990,  0.6391,  1.4327, -0.1590,  0.0941,  0.5253,\n",
       "          0.2508,  1.2521,  2.0388,  0.6608,  0.0691, -0.0813, -1.6723,  0.2933,\n",
       "          2.2423, -0.0210, -0.6666,  1.4253, -0.8412, -1.2248, -1.0129,  0.2230,\n",
       "          0.2112, -0.3226,  0.1141, -0.6350,  0.1848,  0.1165, -1.3947,  0.2343,\n",
       "          0.2170, -0.3493, -0.3409, -0.1918,  0.9244, -0.8073,  0.7147,  0.2383,\n",
       "          0.3964,  1.2354,  2.8623,  2.0470,  0.8419,  0.8480,  0.3483, -0.3153,\n",
       "         -1.0648, -1.4465,  0.3518,  1.1174, -1.1265,  0.0688, -0.2204, -0.4964,\n",
       "         -0.8558, -1.0849,  2.8098, -1.2867,  0.6543,  1.8674,  0.9511,  1.0606,\n",
       "         -0.7020,  1.8505,  0.1528,  0.4583,  1.6235, -0.1899,  1.9335,  0.2938,\n",
       "          0.4391,  0.2065,  1.1369, -0.6884,  0.1559,  0.5905, -1.5956, -0.2324,\n",
       "          1.7724,  1.2664,  0.9916, -0.4957,  1.4023, -1.6664,  0.0178,  0.4224,\n",
       "          0.5857, -0.4225,  0.9377, -1.1793, -0.4486, -0.7184, -0.3307, -0.4207,\n",
       "         -2.1519, -0.1099,  1.1733, -2.1530,  0.1215, -0.8929, -0.9959,  0.9028,\n",
       "          1.3427, -0.7526,  1.3065, -1.5016,  1.8439,  0.9704,  0.8244, -0.7247,\n",
       "          0.3621,  0.0768, -0.9657,  0.1345,  1.8784,  0.9191, -0.5020,  1.6437,\n",
       "         -0.7394,  0.2081,  0.1425,  1.2711,  1.8083, -0.8162,  0.2586,  1.2403]])"
      ]
     },
     "execution_count": 33,
     "metadata": {},
     "output_type": "execute_result"
    }
   ],
   "source": [
    "bnmean"
   ]
  },
  {
   "cell_type": "code",
   "execution_count": 34,
   "id": "65f6f9f3",
   "metadata": {},
   "outputs": [
    {
     "data": {
      "text/plain": [
       "tensor([[-2.3539,  0.6872, -0.9000,  1.0159,  1.0894,  1.0862,  1.7389, -2.1357,\n",
       "          0.5608,  1.4246, -1.6445, -2.7426, -0.4861, -0.1510, -0.0687, -1.1549,\n",
       "          0.6891, -2.6399, -0.1283,  1.6240, -0.7732, -0.2865,  0.0467,  0.6119,\n",
       "          1.1172,  0.2433,  2.0542,  0.5778,  0.8515,  1.7729, -0.3741, -0.8385,\n",
       "         -0.0831, -0.5198, -0.3816, -1.0698, -0.0780,  0.3370, -0.5768,  0.9935,\n",
       "         -0.4507, -1.3313, -0.2895, -0.2299,  0.6877,  0.6936,  2.0835, -0.7759,\n",
       "          2.3804,  1.8613,  0.8117,  0.2735,  1.8802,  0.4704,  0.6656, -1.8962,\n",
       "         -0.0420,  0.4356,  1.3924, -0.8906, -0.4676,  1.1688,  0.5539,  0.6000,\n",
       "          1.5853,  1.2103, -1.0171,  2.1421, -0.6330,  0.1071, -0.2926, -0.4831,\n",
       "          0.9505, -1.0144, -2.9925,  0.6268,  1.4404, -0.1574,  0.0955,  0.5159,\n",
       "          0.2487,  1.2400,  2.0104,  0.6695,  0.0768, -0.0851, -1.6767,  0.2963,\n",
       "          2.2374, -0.0100, -0.6669,  1.4356, -0.8431, -1.2317, -1.0220,  0.2201,\n",
       "          0.1928, -0.3261,  0.1108, -0.6206,  0.1795,  0.1089, -1.4007,  0.2215,\n",
       "          0.2301, -0.3369, -0.3340, -0.1849,  0.9342, -0.8288,  0.7118,  0.2475,\n",
       "          0.3813,  1.2447,  2.8427,  2.0338,  0.8294,  0.8458,  0.3483, -0.3078,\n",
       "         -1.0773, -1.4394,  0.3424,  1.1274, -1.1252,  0.0692, -0.2308, -0.4936,\n",
       "         -0.8471, -1.0785,  2.8080, -1.2824,  0.6541,  1.8701,  0.9662,  1.0696,\n",
       "         -0.7051,  1.8326,  0.1624,  0.4782,  1.6376, -0.1962,  1.9364,  0.2986,\n",
       "          0.4300,  0.2062,  1.1390, -0.6907,  0.1571,  0.5883, -1.5947, -0.2229,\n",
       "          1.7796,  1.2689,  0.9813, -0.4950,  1.4052, -1.6645,  0.0248,  0.4153,\n",
       "          0.5742, -0.4044,  0.9335, -1.1684, -0.4574, -0.7229, -0.3192, -0.4214,\n",
       "         -2.1397, -0.1036,  1.1620, -2.1602,  0.1196, -0.8847, -0.9970,  0.9115,\n",
       "          1.3360, -0.7411,  1.2991, -1.5061,  1.8279,  0.9732,  0.8192, -0.7259,\n",
       "          0.3556,  0.0714, -0.9718,  0.1299,  1.8912,  0.9107, -0.4950,  1.6493,\n",
       "         -0.7601,  0.2008,  0.1606,  1.2586,  1.8110, -0.8021,  0.2453,  1.2369]])"
      ]
     },
     "execution_count": 34,
     "metadata": {},
     "output_type": "execute_result"
    }
   ],
   "source": [
    "bnmean_running"
   ]
  },
  {
   "cell_type": "code",
   "execution_count": 35,
   "id": "b733f14b",
   "metadata": {},
   "outputs": [
    {
     "name": "stdout",
     "output_type": "stream",
     "text": [
      "train loss over the entire dataset is: 2.06659197807312\n",
      "val loss over the entire dataset is: 2.1050572395324707\n"
     ]
    }
   ],
   "source": [
    "def split_loss(mode=\"train\"):\n",
    "    x, y = {\n",
    "        \"train\": (x_train, y_train),\n",
    "        \"val\"  : (x_val  , y_val),\n",
    "        \"test\" : (x_test , y_test)\n",
    "    }[mode]\n",
    "    x = x_train if mode == \"train\" else x_val\n",
    "    y = y_train if mode == \"train\" else y_val\n",
    "    \n",
    "    emb = C[x]\n",
    "    \n",
    "    hpreact = emb.view(emb.shape[0], -1) @ W1 + b1\n",
    "    \n",
    "    # Batch Normalization\n",
    "    hpreact = (hpreact - bnmean_running) / bnstd_running\n",
    "    hpreact = bngain * hpreact + bnbias\n",
    "    \n",
    "    h = torch.tanh(hpreact)\n",
    "    logits = h @ W2 + b2\n",
    "    loss = F.cross_entropy(logits, y)\n",
    "    print(f\"{mode} loss over the entire dataset is: {loss.item()}\")\n",
    "    \n",
    "split_loss(\"train\")\n",
    "split_loss(\"val\")"
   ]
  },
  {
   "cell_type": "markdown",
   "id": "09f1bb81",
   "metadata": {},
   "source": [
    "Loss summary:\n",
    "\n",
    "1. initial setting: train 2.1256, val 2.1698\n",
    "2. revising logits uniform init: train 2.0695, val 2.1311\n",
    "3. revising logits uniform init + fix saturated tanh: train 2.0355, val 2.1026\n",
    "4. add kaiming init instead of hacky init: train: 2.0376, val: 2.1069\n",
    "5. add batchnorm: train: 2.0668270587921143 val: 2.104844808578491 (very simple network, can exactly calculate the scale for just one hidden layer, so not expected to have improvement)"
   ]
  },
  {
   "cell_type": "code",
   "execution_count": 20,
   "id": "52fbdc3b",
   "metadata": {},
   "outputs": [
    {
     "name": "stdout",
     "output_type": "stream",
     "text": [
      "carmahzaylyn.\n",
      "kiffinleige.\n",
      "tyrencessa.\n",
      "jazon.\n",
      "nadelynn.\n",
      "jareei.\n",
      "nellara.\n",
      "chaiivan.\n",
      "legyn.\n",
      "ham.\n",
      "joce.\n",
      "quint.\n",
      "salin.\n",
      "alianni.\n",
      "waveron.\n",
      "jaryxin.\n",
      "kaellissa.\n",
      "med.\n",
      "edi.\n",
      "abette.\n"
     ]
    }
   ],
   "source": [
    "g = torch.Generator().manual_seed(2147483647 + 10)\n",
    "\n",
    "for _ in range(20):\n",
    "    out = []\n",
    "    context = [0] * block_size\n",
    "    while True:\n",
    "        emb = C[torch.tensor([context])]\n",
    "        h = torch.tanh(emb.view(emb.shape[0], -1) @ W1 + b1)\n",
    "        logits = h @ W2 + b2\n",
    "        probs = F.softmax(logits, dim=1)\n",
    "\n",
    "        # Sampling\n",
    "        idx = torch.multinomial(probs, num_samples=1, generator=g).item()\n",
    "        context = context[1:] + [idx]\n",
    "        out.append(idx)\n",
    "        if idx == 0:\n",
    "            break\n",
    "    print(''.join([itos[i] for i in out]))"
   ]
  },
  {
   "cell_type": "markdown",
   "id": "bea11fa5",
   "metadata": {},
   "source": [
    "# PyTorch-ifying the code"
   ]
  },
  {
   "cell_type": "code",
   "execution_count": 1,
   "id": "def7274b",
   "metadata": {},
   "outputs": [],
   "source": [
    "import torch\n",
    "\n",
    "class Linear:\n",
    "    \"\"\"\n",
    "    class torch.nn.Linear(in_features, out_features, bias=True, device=None, dtype=None)\n",
    "    \"\"\"\n",
    "    def __init__(self, in_feature, out_feature, bias=True):\n",
    "        # Initialize weights and bias\n",
    "        pass\n",
    "    \n",
    "    def __call__(self, x):\n",
    "        # Forward pass\n",
    "        pass\n",
    "    \n",
    "    def parameters(self):\n",
    "        # Return a list of weighs and bias if bias is not None\n",
    "        pass\n",
    "    \n",
    "class BatchNorm1D:\n",
    "    \"\"\"\n",
    "    class torch.nn.BatchNorm1d(num_features, eps=1e-05, momentum=0.1, affine=True, track_running_stats=True, device=None, dtype=None)[source]\n",
    "    \"\"\"\n",
    "    def __init__(self, num_features, eps=1e-05, momentum=0.1, affine=True, track_running_stats=True):\n",
    "        # Initialize eps, momentum, training or not\n",
    "        \n",
    "        # Initialize gamma and beta if affine = True. Params trained with backprop\n",
    "        \n",
    "        # Buffers (Trained internally with a running momentum update)\n",
    "          \n",
    "        pass\n",
    "    \n",
    "    def __call__(self, x):\n",
    "        # If training, calculate the mean and std for x. Otherwise, use the buffer\n",
    "        \n",
    "        # Normalize to unit variance as xhat\n",
    "        \n",
    "        # Scale and shift to out.\n",
    "        \n",
    "        # Update mean and std buffer if training with momentum update. without grad.\n",
    "        \n",
    "        pass\n",
    "    \n",
    "    def parameters(self):\n",
    "        # Return a list of gamma, beta.\n",
    "        pass\n",
    "    \n",
    "class Tanh:\n",
    "    def __call__(self, x):\n",
    "        # Return tanh x\n",
    "        pass\n",
    "        \n",
    "    def parameters(self):\n",
    "        # Return empty list\n",
    "        pass"
   ]
  }
 ],
 "metadata": {
  "kernelspec": {
   "display_name": "Python 3 (ipykernel)",
   "language": "python",
   "name": "python3"
  },
  "language_info": {
   "codemirror_mode": {
    "name": "ipython",
    "version": 3
   },
   "file_extension": ".py",
   "mimetype": "text/x-python",
   "name": "python",
   "nbconvert_exporter": "python",
   "pygments_lexer": "ipython3",
   "version": "3.7.16"
  }
 },
 "nbformat": 4,
 "nbformat_minor": 5
}

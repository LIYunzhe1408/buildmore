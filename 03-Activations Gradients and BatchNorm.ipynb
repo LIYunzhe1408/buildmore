{
 "cells": [
  {
   "cell_type": "code",
   "execution_count": 1,
   "id": "1492d18f",
   "metadata": {},
   "outputs": [],
   "source": [
    "import torch\n",
    "import torch.nn.functional as F\n",
    "import matplotlib.pyplot as plt\n",
    "%matplotlib inline"
   ]
  },
  {
   "cell_type": "markdown",
   "id": "9e6eb0e9",
   "metadata": {},
   "source": [
    "# Starter\n",
    "* Data -> Build Dataset -> split dataset\n",
    "* vocab\n",
    "* init_MLP_params\n",
    "* training\n",
    "* loss\n",
    "* sampling"
   ]
  },
  {
   "cell_type": "code",
   "execution_count": 2,
   "id": "950b7570",
   "metadata": {},
   "outputs": [
    {
     "data": {
      "text/plain": [
       "(32033,\n",
       " ['emma',\n",
       "  'olivia',\n",
       "  'ava',\n",
       "  'isabella',\n",
       "  'sophia',\n",
       "  'charlotte',\n",
       "  'mia',\n",
       "  'amelia',\n",
       "  'harper',\n",
       "  'evelyn'])"
      ]
     },
     "execution_count": 2,
     "metadata": {},
     "output_type": "execute_result"
    }
   ],
   "source": [
    "words = open(\"names.txt\").read().splitlines()\n",
    "len(words), words[:10]"
   ]
  },
  {
   "cell_type": "code",
   "execution_count": 3,
   "id": "13d45547",
   "metadata": {},
   "outputs": [],
   "source": [
    "vocab = sorted(set(''.join(words)))\n",
    "\n",
    "stoi = {s: i+1 for i, s in enumerate(vocab)}\n",
    "stoi[\".\"] = 0\n",
    "itos = {i: s for s, i in stoi.items()}\n",
    "\n",
    "vocab_size = len(itos) # Used for initiate emb lookup table"
   ]
  },
  {
   "cell_type": "code",
   "execution_count": 4,
   "id": "d3d74fd4",
   "metadata": {},
   "outputs": [
    {
     "name": "stdout",
     "output_type": "stream",
     "text": [
      "torch.Size([182625, 3]) torch.Size([182625])\n",
      "torch.Size([22655, 3]) torch.Size([22655])\n",
      "torch.Size([22866, 3]) torch.Size([22866])\n"
     ]
    }
   ],
   "source": [
    "block_size = 3\n",
    "def build_dataset(words):\n",
    "    xs, ys = [], []\n",
    "    for word in words:\n",
    "        context = [0] * block_size\n",
    "        for ch in word+\".\":\n",
    "            idx = stoi[ch]\n",
    "            xs.append(context), ys.append(idx)\n",
    "            context = context[1:] + [idx]\n",
    "    xs, ys = torch.tensor(xs), torch.tensor(ys)\n",
    "    print(xs.shape, ys.shape)\n",
    "    return xs, ys\n",
    "\n",
    "import random\n",
    "random.seed(42)\n",
    "random.shuffle(words)\n",
    "train_idx = int(0.8 * len(words))\n",
    "val_idx   = int(0.9 * len(words))\n",
    "\n",
    "x_train, y_train = build_dataset(words[:train_idx])\n",
    "x_val  , y_val   = build_dataset(words[train_idx:val_idx])\n",
    "x_test , y_test  = build_dataset(words[val_idx:])"
   ]
  },
  {
   "cell_type": "code",
   "execution_count": 5,
   "id": "9aa844c6",
   "metadata": {},
   "outputs": [
    {
     "name": "stdout",
     "output_type": "stream",
     "text": [
      "Parameter number: 11897\n"
     ]
    }
   ],
   "source": [
    "emb_dim = 10\n",
    "hidden_dim = 200\n",
    "\n",
    "g = torch.Generator().manual_seed(2147483647)\n",
    "C = torch.randn((vocab_size, emb_dim)              , generator=g)\n",
    "W1 = torch.randn((block_size * emb_dim, hidden_dim), generator=g)\n",
    "b1 = torch.randn(hidden_dim                        , generator=g)\n",
    "W2 = torch.randn((hidden_dim, vocab_size)          , generator=g)\n",
    "b2 = torch.randn(vocab_size                        , generator=g)\n",
    "parameters = [C, W1, b1, W2, b2]\n",
    "\n",
    "print(f\"Parameter number: {sum([p.nelement() for p in parameters])}\")\n",
    "for p in parameters:\n",
    "    p.requires_grad = True"
   ]
  },
  {
   "cell_type": "code",
   "execution_count": 6,
   "id": "6a514085",
   "metadata": {},
   "outputs": [
    {
     "name": "stdout",
     "output_type": "stream",
     "text": [
      "      0/ 200000: 27.8817\n",
      "  10000/ 200000: 2.7667\n",
      "  20000/ 200000: 2.6773\n",
      "  30000/ 200000: 2.7836\n",
      "  40000/ 200000: 2.0416\n",
      "  50000/ 200000: 2.6894\n",
      "  60000/ 200000: 2.2941\n",
      "  70000/ 200000: 2.1137\n",
      "  80000/ 200000: 2.3393\n",
      "  90000/ 200000: 2.1892\n",
      " 100000/ 200000: 2.0250\n",
      " 110000/ 200000: 2.3710\n",
      " 120000/ 200000: 2.0257\n",
      " 130000/ 200000: 2.3571\n",
      " 140000/ 200000: 2.2188\n",
      " 150000/ 200000: 2.1529\n",
      " 160000/ 200000: 2.1815\n",
      " 170000/ 200000: 1.7772\n",
      " 180000/ 200000: 2.0281\n",
      " 190000/ 200000: 1.7446\n"
     ]
    }
   ],
   "source": [
    "max_steps  = 200000\n",
    "batch_size = 32\n",
    "lossi = []\n",
    "\n",
    "for i in range(max_steps):\n",
    "    # Forward\n",
    "    idx = torch.randint(0, x_train.shape[0], (batch_size,), generator=g)\n",
    "    Xb, Yb = x_train[idx], y_train[idx] \n",
    "    \n",
    "    emb = C[Xb]\n",
    "    h = torch.tanh(emb.view(emb.shape[0], -1) @ W1 + b1)\n",
    "    logits = h @ W2 + b2\n",
    "    loss = F.cross_entropy(logits, Yb)\n",
    "    \n",
    "    \n",
    "    # Backward\n",
    "    for p in parameters:\n",
    "        p.grad = None\n",
    "    loss.backward()\n",
    "    \n",
    "    # Update\n",
    "    lr = 0.1 if i < 100000  else 0.01\n",
    "    with torch.no_grad():\n",
    "        for p in parameters:\n",
    "            p += -lr * p.grad\n",
    "            \n",
    "    # Track stats\n",
    "    if i % 10000 == 0:\n",
    "        print(f\"{i:7d}/{max_steps:7d}: {loss.item():.4f}\")\n",
    "    lossi.append(loss.log10().item())"
   ]
  },
  {
   "cell_type": "code",
   "execution_count": 7,
   "id": "34757762",
   "metadata": {},
   "outputs": [
    {
     "data": {
      "text/plain": [
       "[<matplotlib.lines.Line2D at 0x2a6c38d81c8>]"
      ]
     },
     "execution_count": 7,
     "metadata": {},
     "output_type": "execute_result"
    },
    {
     "data": {
      "image/png": "[encoded data removed]",
      "text/plain": [
       "<Figure size 640x480 with 1 Axes>"
      ]
     },
     "metadata": {},
     "output_type": "display_data"
    }
   ],
   "source": [
    "plt.plot(torch.arange(len(lossi)), lossi)"
   ]
  },
  {
   "cell_type": "code",
   "execution_count": 8,
   "id": "b733f14b",
   "metadata": {},
   "outputs": [
    {
     "name": "stdout",
     "output_type": "stream",
     "text": [
      "train loss over the entire dataset is: 2.1256096363067627\n",
      "val loss over the entire dataset is: 2.169816732406616\n"
     ]
    }
   ],
   "source": [
    "def split_loss(mode=\"train\"):\n",
    "    x, y = {\n",
    "        \"train\": (x_train, y_train),\n",
    "        \"val\"  : (x_val  , y_val),\n",
    "        \"test\" : (x_test , y_test)\n",
    "    }[mode]\n",
    "    x = x_train if mode == \"train\" else x_val\n",
    "    y = y_train if mode == \"train\" else y_val\n",
    "    \n",
    "    emb = C[x]\n",
    "    h = torch.tanh(emb.view(emb.shape[0], -1) @ W1 + b1)\n",
    "    logits = h @ W2 + b2\n",
    "    loss = F.cross_entropy(logits, y)\n",
    "    print(f\"{mode} loss over the entire dataset is: {loss.item()}\")\n",
    "    \n",
    "split_loss(\"train\")\n",
    "split_loss(\"val\")"
   ]
  },
  {
   "cell_type": "code",
   "execution_count": 9,
   "id": "52fbdc3b",
   "metadata": {},
   "outputs": [
    {
     "name": "stdout",
     "output_type": "stream",
     "text": [
      "carlah.\n",
      "amelle.\n",
      "khi.\n",
      "mili.\n",
      "taty.\n",
      "skanden.\n",
      "jazhuen.\n",
      "den.\n",
      "art.\n",
      "kaqui.\n",
      "nellara.\n",
      "chaiir.\n",
      "kaleigh.\n",
      "ham.\n",
      "jorn.\n",
      "quinn.\n",
      "salin.\n",
      "alianni.\n",
      "wazthoniearynix.\n",
      "kaellinsley.\n"
     ]
    }
   ],
   "source": [
    "g = torch.Generator().manual_seed(2147483647 + 10)\n",
    "\n",
    "for _ in range(20):\n",
    "    out = []\n",
    "    context = [0] * block_size\n",
    "    while True:\n",
    "        emb = C[torch.tensor([context])]\n",
    "        h = torch.tanh(emb.view(emb.shape[0], -1) @ W1 + b1)\n",
    "        logits = h @ W2 + b2\n",
    "        probs = F.softmax(logits, dim=1)\n",
    "\n",
    "        # Sampling\n",
    "        idx = torch.multinomial(probs, num_samples=1, generator=g).item()\n",
    "        context = context[1:] + [idx]\n",
    "        out.append(idx)\n",
    "        if idx == 0:\n",
    "            break\n",
    "    print(''.join([itos[i] for i in out]))"
   ]
  }
 ],
 "metadata": {
  "kernelspec": {
   "display_name": "Python 3 (ipykernel)",
   "language": "python",
   "name": "python3"
  },
  "language_info": {
   "codemirror_mode": {
    "name": "ipython",
    "version": 3
   },
   "file_extension": ".py",
   "mimetype": "text/x-python",
   "name": "python",
   "nbconvert_exporter": "python",
   "pygments_lexer": "ipython3",
   "version": "3.7.16"
  }
 },
 "nbformat": 4,
 "nbformat_minor": 5
}

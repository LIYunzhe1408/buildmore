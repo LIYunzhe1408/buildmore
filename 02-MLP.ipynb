{
 "cells": [
  {
   "cell_type": "markdown",
   "id": "ba5b6988",
   "metadata": {},
   "source": [
    "We currently have a model that can deal with one character of previous context. But the precition was not good enough.\n",
    "\n",
    "* More context? way too many rows => expensive to calculate\n",
    "* MLP"
   ]
  },
  {
   "cell_type": "code",
   "execution_count": 1,
   "id": "f3886184",
   "metadata": {},
   "outputs": [],
   "source": [
    "import torch\n",
    "import torch.nn.functional as F"
   ]
  },
  {
   "cell_type": "markdown",
   "id": "9b61fff8",
   "metadata": {},
   "source": [
    "# Data"
   ]
  },
  {
   "cell_type": "code",
   "execution_count": 2,
   "id": "159617fd",
   "metadata": {},
   "outputs": [
    {
     "data": {
      "text/plain": [
       "['emma',\n",
       " 'olivia',\n",
       " 'ava',\n",
       " 'isabella',\n",
       " 'sophia',\n",
       " 'charlotte',\n",
       " 'mia',\n",
       " 'amelia',\n",
       " 'harper',\n",
       " 'evelyn']"
      ]
     },
     "execution_count": 2,
     "metadata": {},
     "output_type": "execute_result"
    }
   ],
   "source": [
    "names = open(\"names.txt\").read().splitlines()\n",
    "names[:10]"
   ]
  },
  {
   "cell_type": "code",
   "execution_count": 3,
   "id": "bce38bd5",
   "metadata": {},
   "outputs": [
    {
     "data": {
      "text/plain": [
       "27"
      ]
     },
     "execution_count": 3,
     "metadata": {},
     "output_type": "execute_result"
    }
   ],
   "source": [
    "vocab = sorted(set(''.join(names)))\n",
    "vocab = [\".\"] + vocab\n",
    "len(vocab)"
   ]
  },
  {
   "cell_type": "code",
   "execution_count": 4,
   "id": "4beb322c",
   "metadata": {},
   "outputs": [],
   "source": [
    "stoi = {s:i for i, s in enumerate(vocab)}\n",
    "itos = {i:s for s, i in stoi.items()}"
   ]
  },
  {
   "cell_type": "code",
   "execution_count": 5,
   "id": "69491400",
   "metadata": {},
   "outputs": [
    {
     "name": "stdout",
     "output_type": "stream",
     "text": [
      "emma\n",
      "..... -------> e\n",
      "....e -------> m\n",
      "...em -------> m\n",
      "..emm -------> a\n",
      ".emma -------> .\n",
      "olivia\n",
      "..... -------> o\n",
      "....o -------> l\n",
      "...ol -------> i\n",
      "..oli -------> v\n",
      ".oliv -------> i\n",
      "olivi -------> a\n",
      "livia -------> .\n",
      "ava\n",
      "..... -------> a\n",
      "....a -------> v\n",
      "...av -------> a\n",
      "..ava -------> .\n",
      "isabella\n",
      "..... -------> i\n",
      "....i -------> s\n",
      "...is -------> a\n",
      "..isa -------> b\n",
      ".isab -------> e\n",
      "isabe -------> l\n",
      "sabel -------> l\n",
      "abell -------> a\n",
      "bella -------> .\n",
      "sophia\n",
      "..... -------> s\n",
      "....s -------> o\n",
      "...so -------> p\n",
      "..sop -------> h\n",
      ".soph -------> i\n",
      "sophi -------> a\n",
      "ophia -------> .\n"
     ]
    }
   ],
   "source": [
    "block_size = 5 # context length\n",
    "xs, ys = [], []\n",
    "\n",
    "for name in names[:5]:\n",
    "    context = [0] * block_size\n",
    "    print(name)\n",
    "    for ch in name+\".\":\n",
    "        idx = stoi[ch]\n",
    "        xs.append(context)\n",
    "        ys.append(idx)\n",
    "        print(f\"{''.join([itos[i] for i in context])} -------> {itos[idx]}\")\n",
    "        context = context[1:] + [idx]\n",
    "xs, ys = torch.tensor(xs), torch.tensor(ys)"
   ]
  },
  {
   "cell_type": "code",
   "execution_count": 6,
   "id": "ceaa509f",
   "metadata": {},
   "outputs": [
    {
     "data": {
      "text/plain": [
       "(torch.Size([32, 5]), torch.int64, torch.Size([32]), torch.int64)"
      ]
     },
     "execution_count": 6,
     "metadata": {},
     "output_type": "execute_result"
    }
   ],
   "source": [
    "xs.shape, xs.dtype, ys.shape, ys.dtype"
   ]
  },
  {
   "cell_type": "markdown",
   "id": "58e8d8c4",
   "metadata": {},
   "source": [
    "# Embedding"
   ]
  },
  {
   "cell_type": "markdown",
   "id": "dbef8cff",
   "metadata": {},
   "source": [
    "Our vocab size is 27 and we want to map them into 2-D space. In original paper from Bengio, they have 17,000 words and then map them into 30-D space."
   ]
  },
  {
   "cell_type": "code",
   "execution_count": 7,
   "id": "bfbe7142",
   "metadata": {},
   "outputs": [
    {
     "data": {
      "text/plain": [
       "tensor([[-0.0455,  2.1932],\n",
       "        [ 0.7252,  0.3142],\n",
       "        [ 0.4269, -0.3342],\n",
       "        [ 0.0788, -1.1889],\n",
       "        [ 0.1104,  0.5757],\n",
       "        [-0.2223,  0.1611],\n",
       "        [ 0.0912, -1.4971],\n",
       "        [-0.6341, -0.6525],\n",
       "        [ 1.9947, -0.2577],\n",
       "        [-1.7833, -0.1239],\n",
       "        [ 0.3382, -0.2327],\n",
       "        [-0.7605, -0.5295],\n",
       "        [-0.3781,  1.2775],\n",
       "        [-1.4518,  0.5570],\n",
       "        [-0.2646, -0.1245],\n",
       "        [-0.6150,  0.2805],\n",
       "        [-1.2806, -1.1316],\n",
       "        [-0.0167, -0.0672],\n",
       "        [ 1.4898, -2.0974],\n",
       "        [ 0.7647, -0.5168],\n",
       "        [-1.1427,  1.3551],\n",
       "        [ 1.5232,  0.9650],\n",
       "        [-0.8693, -2.0321],\n",
       "        [ 1.4359,  0.4247],\n",
       "        [ 1.2453, -1.1552],\n",
       "        [ 0.3348,  1.4309],\n",
       "        [-0.4541, -1.1242]])"
      ]
     },
     "execution_count": 7,
     "metadata": {},
     "output_type": "execute_result"
    }
   ],
   "source": [
    "C = torch.randn([27, 2])\n",
    "C"
   ]
  },
  {
   "cell_type": "code",
   "execution_count": 8,
   "id": "5f4a58c4",
   "metadata": {},
   "outputs": [
    {
     "data": {
      "text/plain": [
       "(tensor([-0.2223,  0.1611]), tensor([True, True]))"
      ]
     },
     "execution_count": 8,
     "metadata": {},
     "output_type": "execute_result"
    }
   ],
   "source": [
    "xenc = F.one_hot(torch.tensor(5), num_classes=27).float()\n",
    "# which is equal to C[5]\n",
    "# 5 th row will be plucked out.\n",
    "C[5], C[5] == xenc @ C"
   ]
  },
  {
   "cell_type": "code",
   "execution_count": 9,
   "id": "7dea8f45",
   "metadata": {},
   "outputs": [
    {
     "data": {
      "text/plain": [
       "tensor([[ 0,  0,  0,  0,  0],\n",
       "        [ 0,  0,  0,  0,  5],\n",
       "        [ 0,  0,  0,  5, 13],\n",
       "        [ 0,  0,  5, 13, 13],\n",
       "        [ 0,  5, 13, 13,  1],\n",
       "        [ 0,  0,  0,  0,  0],\n",
       "        [ 0,  0,  0,  0, 15],\n",
       "        [ 0,  0,  0, 15, 12],\n",
       "        [ 0,  0, 15, 12,  9],\n",
       "        [ 0, 15, 12,  9, 22],\n",
       "        [15, 12,  9, 22,  9],\n",
       "        [12,  9, 22,  9,  1],\n",
       "        [ 0,  0,  0,  0,  0],\n",
       "        [ 0,  0,  0,  0,  1],\n",
       "        [ 0,  0,  0,  1, 22],\n",
       "        [ 0,  0,  1, 22,  1],\n",
       "        [ 0,  0,  0,  0,  0],\n",
       "        [ 0,  0,  0,  0,  9],\n",
       "        [ 0,  0,  0,  9, 19],\n",
       "        [ 0,  0,  9, 19,  1],\n",
       "        [ 0,  9, 19,  1,  2],\n",
       "        [ 9, 19,  1,  2,  5],\n",
       "        [19,  1,  2,  5, 12],\n",
       "        [ 1,  2,  5, 12, 12],\n",
       "        [ 2,  5, 12, 12,  1],\n",
       "        [ 0,  0,  0,  0,  0],\n",
       "        [ 0,  0,  0,  0, 19],\n",
       "        [ 0,  0,  0, 19, 15],\n",
       "        [ 0,  0, 19, 15, 16],\n",
       "        [ 0, 19, 15, 16,  8],\n",
       "        [19, 15, 16,  8,  9],\n",
       "        [15, 16,  8,  9,  1]])"
      ]
     },
     "execution_count": 9,
     "metadata": {},
     "output_type": "execute_result"
    }
   ],
   "source": [
    "xs"
   ]
  },
  {
   "cell_type": "code",
   "execution_count": 10,
   "id": "22450fda",
   "metadata": {},
   "outputs": [
    {
     "data": {
      "text/plain": [
       "(torch.Size([32, 5, 2]), tensor([-0.2223,  0.1611]), tensor([True, True]))"
      ]
     },
     "execution_count": 10,
     "metadata": {},
     "output_type": "execute_result"
    }
   ],
   "source": [
    "C[xs].shape, C[xs][1, 4], C[xs][1, 4] == C[5] "
   ]
  },
  {
   "cell_type": "code",
   "execution_count": 11,
   "id": "6c1f2c7c",
   "metadata": {},
   "outputs": [
    {
     "data": {
      "text/plain": [
       "torch.Size([32, 5, 2])"
      ]
     },
     "execution_count": 11,
     "metadata": {},
     "output_type": "execute_result"
    }
   ],
   "source": [
    "emb = C[xs]\n",
    "emb.shape"
   ]
  },
  {
   "cell_type": "markdown",
   "id": "6179a21e",
   "metadata": {},
   "source": [
    "# Hidden Layer"
   ]
  },
  {
   "cell_type": "code",
   "execution_count": 12,
   "id": "239a6bb2",
   "metadata": {},
   "outputs": [
    {
     "ename": "RuntimeError",
     "evalue": "mat1 and mat2 shapes cannot be multiplied (160x2 and 10x100)",
     "output_type": "error",
     "traceback": [
      "\u001b[1;31m---------------------------------------------------------------------------\u001b[0m",
      "\u001b[1;31mRuntimeError\u001b[0m                              Traceback (most recent call last)",
      "\u001b[1;32m~\\AppData\\Local\\Temp\\ipykernel_17388\\3803010932.py\u001b[0m in \u001b[0;36m<module>\u001b[1;34m\u001b[0m\n\u001b[0;32m      1\u001b[0m \u001b[0mW\u001b[0m \u001b[1;33m=\u001b[0m \u001b[0mtorch\u001b[0m\u001b[1;33m.\u001b[0m\u001b[0mrandn\u001b[0m\u001b[1;33m(\u001b[0m\u001b[1;33m[\u001b[0m\u001b[1;36m10\u001b[0m\u001b[1;33m,\u001b[0m \u001b[1;36m100\u001b[0m\u001b[1;33m]\u001b[0m\u001b[1;33m)\u001b[0m\u001b[1;33m\u001b[0m\u001b[1;33m\u001b[0m\u001b[0m\n\u001b[1;32m----> 2\u001b[1;33m \u001b[0memb\u001b[0m \u001b[1;33m@\u001b[0m \u001b[0mW\u001b[0m\u001b[1;33m\u001b[0m\u001b[1;33m\u001b[0m\u001b[0m\n\u001b[0m",
      "\u001b[1;31mRuntimeError\u001b[0m: mat1 and mat2 shapes cannot be multiplied (160x2 and 10x100)"
     ]
    }
   ],
   "source": [
    "W = torch.randn([10, 100])\n",
    "emb @ W"
   ]
  },
  {
   "cell_type": "code",
   "execution_count": 13,
   "id": "31cdebf2",
   "metadata": {},
   "outputs": [
    {
     "data": {
      "text/plain": [
       "torch.Size([32, 100])"
      ]
     },
     "execution_count": 13,
     "metadata": {},
     "output_type": "execute_result"
    }
   ],
   "source": [
    "# Method 1: Extract and concat\n",
    "concated_1 = torch.concat((emb[:, 0, :], emb[:, 1, :], emb[:, 2, :], emb[:, 3, :], emb[:, 4, :]), dim=1)\n",
    "(concated_1 @ W).shape"
   ]
  },
  {
   "cell_type": "code",
   "execution_count": 14,
   "id": "a2a4b1b2",
   "metadata": {},
   "outputs": [
    {
     "data": {
      "text/plain": [
       "torch.Size([32, 100])"
      ]
     },
     "execution_count": 14,
     "metadata": {},
     "output_type": "execute_result"
    }
   ],
   "source": [
    "# Method 2: Unbind\n",
    "unbind_emb = torch.unbind(emb, dim=1)\n",
    "concated_2 = torch.concat(unbind_emb, dim=1)\n",
    "(concated_2 @ W).shape"
   ]
  },
  {
   "cell_type": "code",
   "execution_count": 15,
   "id": "51d4a2ec",
   "metadata": {},
   "outputs": [
    {
     "data": {
      "text/plain": [
       "(tensor([[True, True, True, True, True, True, True, True, True, True],\n",
       "         [True, True, True, True, True, True, True, True, True, True],\n",
       "         [True, True, True, True, True, True, True, True, True, True],\n",
       "         [True, True, True, True, True, True, True, True, True, True],\n",
       "         [True, True, True, True, True, True, True, True, True, True],\n",
       "         [True, True, True, True, True, True, True, True, True, True],\n",
       "         [True, True, True, True, True, True, True, True, True, True],\n",
       "         [True, True, True, True, True, True, True, True, True, True],\n",
       "         [True, True, True, True, True, True, True, True, True, True],\n",
       "         [True, True, True, True, True, True, True, True, True, True],\n",
       "         [True, True, True, True, True, True, True, True, True, True],\n",
       "         [True, True, True, True, True, True, True, True, True, True],\n",
       "         [True, True, True, True, True, True, True, True, True, True],\n",
       "         [True, True, True, True, True, True, True, True, True, True],\n",
       "         [True, True, True, True, True, True, True, True, True, True],\n",
       "         [True, True, True, True, True, True, True, True, True, True],\n",
       "         [True, True, True, True, True, True, True, True, True, True],\n",
       "         [True, True, True, True, True, True, True, True, True, True],\n",
       "         [True, True, True, True, True, True, True, True, True, True],\n",
       "         [True, True, True, True, True, True, True, True, True, True],\n",
       "         [True, True, True, True, True, True, True, True, True, True],\n",
       "         [True, True, True, True, True, True, True, True, True, True],\n",
       "         [True, True, True, True, True, True, True, True, True, True],\n",
       "         [True, True, True, True, True, True, True, True, True, True],\n",
       "         [True, True, True, True, True, True, True, True, True, True],\n",
       "         [True, True, True, True, True, True, True, True, True, True],\n",
       "         [True, True, True, True, True, True, True, True, True, True],\n",
       "         [True, True, True, True, True, True, True, True, True, True],\n",
       "         [True, True, True, True, True, True, True, True, True, True],\n",
       "         [True, True, True, True, True, True, True, True, True, True],\n",
       "         [True, True, True, True, True, True, True, True, True, True],\n",
       "         [True, True, True, True, True, True, True, True, True, True]]),\n",
       " tensor([[True, True, True, True, True, True, True, True, True, True],\n",
       "         [True, True, True, True, True, True, True, True, True, True],\n",
       "         [True, True, True, True, True, True, True, True, True, True],\n",
       "         [True, True, True, True, True, True, True, True, True, True],\n",
       "         [True, True, True, True, True, True, True, True, True, True],\n",
       "         [True, True, True, True, True, True, True, True, True, True],\n",
       "         [True, True, True, True, True, True, True, True, True, True],\n",
       "         [True, True, True, True, True, True, True, True, True, True],\n",
       "         [True, True, True, True, True, True, True, True, True, True],\n",
       "         [True, True, True, True, True, True, True, True, True, True],\n",
       "         [True, True, True, True, True, True, True, True, True, True],\n",
       "         [True, True, True, True, True, True, True, True, True, True],\n",
       "         [True, True, True, True, True, True, True, True, True, True],\n",
       "         [True, True, True, True, True, True, True, True, True, True],\n",
       "         [True, True, True, True, True, True, True, True, True, True],\n",
       "         [True, True, True, True, True, True, True, True, True, True],\n",
       "         [True, True, True, True, True, True, True, True, True, True],\n",
       "         [True, True, True, True, True, True, True, True, True, True],\n",
       "         [True, True, True, True, True, True, True, True, True, True],\n",
       "         [True, True, True, True, True, True, True, True, True, True],\n",
       "         [True, True, True, True, True, True, True, True, True, True],\n",
       "         [True, True, True, True, True, True, True, True, True, True],\n",
       "         [True, True, True, True, True, True, True, True, True, True],\n",
       "         [True, True, True, True, True, True, True, True, True, True],\n",
       "         [True, True, True, True, True, True, True, True, True, True],\n",
       "         [True, True, True, True, True, True, True, True, True, True],\n",
       "         [True, True, True, True, True, True, True, True, True, True],\n",
       "         [True, True, True, True, True, True, True, True, True, True],\n",
       "         [True, True, True, True, True, True, True, True, True, True],\n",
       "         [True, True, True, True, True, True, True, True, True, True],\n",
       "         [True, True, True, True, True, True, True, True, True, True],\n",
       "         [True, True, True, True, True, True, True, True, True, True]]))"
      ]
     },
     "execution_count": 15,
     "metadata": {},
     "output_type": "execute_result"
    }
   ],
   "source": [
    "# Method 3: View\n",
    "viewed_emb = emb.view(32, -1)\n",
    "concated_1 == concated_2, concated_1 == viewed_emb"
   ]
  },
  {
   "cell_type": "code",
   "execution_count": 16,
   "id": "012f7397",
   "metadata": {},
   "outputs": [
    {
     "data": {
      "text/plain": [
       "torch.Size([32, 100])"
      ]
     },
     "execution_count": 16,
     "metadata": {},
     "output_type": "execute_result"
    }
   ],
   "source": [
    "b = torch.rand(100)\n",
    "hidden = emb.view(32, -1) @ W + b # b is broadcasted. emb: [32, 100] b: [1, 100] -> [32, 100]\n",
    "hiddden_out = torch.tanh(hidden)\n",
    "hiddden_out.shape"
   ]
  },
  {
   "cell_type": "markdown",
   "id": "6bed8024",
   "metadata": {},
   "source": [
    "# Output Layer"
   ]
  },
  {
   "cell_type": "code",
   "execution_count": 17,
   "id": "2bd8f9d3",
   "metadata": {},
   "outputs": [],
   "source": [
    "W2 = torch.randn([100, 27])\n",
    "b2 = torch.randn(27)\n",
    "logits = hiddden_out @ W2 + b2"
   ]
  },
  {
   "cell_type": "markdown",
   "id": "3c342383",
   "metadata": {},
   "source": [
    "Previously how we did"
   ]
  },
  {
   "cell_type": "code",
   "execution_count": 18,
   "id": "9fabd0d4",
   "metadata": {},
   "outputs": [
    {
     "data": {
      "text/plain": [
       "(torch.Size([32, 27]), tensor(1.0000))"
      ]
     },
     "execution_count": 18,
     "metadata": {},
     "output_type": "execute_result"
    }
   ],
   "source": [
    "logits = hiddden_out @ W2 + b2\n",
    "counts = logits.exp()\n",
    "probs = counts / counts.sum(dim=1, keepdim=True)\n",
    "probs.shape, probs[0].sum()"
   ]
  },
  {
   "cell_type": "code",
   "execution_count": 19,
   "id": "a4ed63ac",
   "metadata": {},
   "outputs": [
    {
     "data": {
      "text/plain": [
       "(torch.Size([32]),\n",
       " tensor([3.0119e-08, 2.8375e-02, 6.1374e-06, 9.3671e-12, 2.1485e-11, 1.6045e-17,\n",
       "         1.4678e-11, 1.0807e-05, 3.6728e-13, 7.2138e-11, 1.8460e-16, 1.2394e-12,\n",
       "         3.0063e-06, 7.5841e-08, 4.5854e-14, 4.4765e-13, 1.0614e-06, 2.8768e-04,\n",
       "         2.5712e-09, 7.3569e-07, 3.6548e-05, 3.3603e-07, 1.1610e-13, 4.6365e-08,\n",
       "         8.7782e-12, 6.7819e-07, 2.0970e-18, 6.5958e-05, 9.5083e-08, 2.3348e-06,\n",
       "         1.5352e-14, 3.4778e-10]))"
      ]
     },
     "execution_count": 19,
     "metadata": {},
     "output_type": "execute_result"
    }
   ],
   "source": [
    "output = probs[torch.arange(32), ys] # Output prob at correct position, ideally all of them should be 1\n",
    "output.shape, output"
   ]
  },
  {
   "cell_type": "code",
   "execution_count": 20,
   "id": "f05d8629",
   "metadata": {},
   "outputs": [
    {
     "data": {
      "text/plain": [
       "tensor(20.6906)"
      ]
     },
     "execution_count": 20,
     "metadata": {},
     "output_type": "execute_result"
    }
   ],
   "source": [
    "loss = -output.log().mean()\n",
    "loss"
   ]
  },
  {
   "cell_type": "markdown",
   "id": "013aebd3",
   "metadata": {},
   "source": [
    "More efficient in torch"
   ]
  },
  {
   "cell_type": "code",
   "execution_count": 21,
   "id": "423fce5f",
   "metadata": {},
   "outputs": [
    {
     "data": {
      "text/plain": [
       "(tensor([6.7379e-03, 1.4841e+02,        inf]),\n",
       " tensor([0.0000e+00, 5.5211e-42, 1.0000e+00]))"
      ]
     },
     "execution_count": 21,
     "metadata": {},
     "output_type": "execute_result"
    }
   ],
   "source": [
    "test_x = torch.tensor([-5, 5, 100])\n",
    "how_torch_did_test_x = test_x - 100\n",
    "test_x.exp(), how_torch_did_test_x.exp()"
   ]
  },
  {
   "cell_type": "code",
   "execution_count": 22,
   "id": "4584c868",
   "metadata": {},
   "outputs": [
    {
     "data": {
      "text/plain": [
       "tensor(20.6906)"
      ]
     },
     "execution_count": 22,
     "metadata": {},
     "output_type": "execute_result"
    }
   ],
   "source": [
    "loss_torch = F.cross_entropy(logits, ys)\n",
    "loss_torch"
   ]
  },
  {
   "cell_type": "markdown",
   "id": "f5e9d970",
   "metadata": {},
   "source": [
    "# Put above together"
   ]
  },
  {
   "cell_type": "code",
   "execution_count": 23,
   "id": "f8cb24d3",
   "metadata": {},
   "outputs": [],
   "source": [
    "block_size = 5 # context length\n",
    "xs, ys = [], []\n",
    "\n",
    "for name in names:\n",
    "    context = [0] * block_size\n",
    "#     print(name)\n",
    "    for ch in name+\".\":\n",
    "        idx = stoi[ch]\n",
    "        xs.append(context)\n",
    "        ys.append(idx)\n",
    "#         print(f\"{''.join([itos[i] for i in context])} -------> {itos[idx]}\")\n",
    "        context = context[1:] + [idx]\n",
    "xs, ys = torch.tensor(xs), torch.tensor(ys)"
   ]
  },
  {
   "cell_type": "code",
   "execution_count": 24,
   "id": "6d63639c",
   "metadata": {},
   "outputs": [
    {
     "data": {
      "text/plain": [
       "(torch.Size([228146, 5]), torch.Size([228146]))"
      ]
     },
     "execution_count": 24,
     "metadata": {},
     "output_type": "execute_result"
    }
   ],
   "source": [
    "xs.shape, ys.shape"
   ]
  },
  {
   "cell_type": "code",
   "execution_count": 25,
   "id": "82a65001",
   "metadata": {},
   "outputs": [],
   "source": [
    "g = torch.Generator().manual_seed(2147483647)\n",
    "C = torch.randn([27, 2], generator=g) # 32x5x27 * 27* 2 => 32x5x2\n",
    "W1 = torch.randn([10, 100], generator=g)\n",
    "b1 = torch.randn(100, generator=g)\n",
    "W2 = torch.randn([100, 27], generator=g)\n",
    "b2 = torch.randn(27, generator=g)\n",
    "parameters = [C, W1, b1, W2, b2]\n",
    "for p in parameters:\n",
    "    p.requires_grad = True"
   ]
  },
  {
   "cell_type": "code",
   "execution_count": 26,
   "id": "b3b75e21",
   "metadata": {},
   "outputs": [
    {
     "data": {
      "text/plain": [
       "3881"
      ]
     },
     "execution_count": 26,
     "metadata": {},
     "output_type": "execute_result"
    }
   ],
   "source": [
    "sum(p.nelement() for p in parameters)"
   ]
  },
  {
   "cell_type": "markdown",
   "id": "c9886be2",
   "metadata": {},
   "source": [
    "## Too slow for training entire dataset one time\n",
    "Minibatch would be helpful"
   ]
  },
  {
   "cell_type": "code",
   "execution_count": 27,
   "id": "13f6b66a",
   "metadata": {},
   "outputs": [
    {
     "name": "stdout",
     "output_type": "stream",
     "text": [
      "Step: 0/1000, loss: 18.271120071411133\n",
      "Step: 100/1000, loss: 4.092945575714111\n",
      "Step: 200/1000, loss: 4.093234539031982\n",
      "Step: 300/1000, loss: 2.9588305950164795\n",
      "Step: 400/1000, loss: 2.6177566051483154\n",
      "Step: 500/1000, loss: 2.6725914478302\n",
      "Step: 600/1000, loss: 2.8950424194335938\n",
      "Step: 700/1000, loss: 3.291722536087036\n",
      "Step: 800/1000, loss: 2.7646677494049072\n",
      "Step: 900/1000, loss: 2.845332384109497\n"
     ]
    }
   ],
   "source": [
    "steps = 1000\n",
    "for step in range(steps):\n",
    "    # Minibatch construct\n",
    "    # Randomly sample from xs\n",
    "    # Sample 32 samples from all xs indices\n",
    "    idx = torch.randint(0, xs.shape[0], (32,))\n",
    "    \n",
    "    # Fordward Pass\n",
    "    emb = C[xs[idx]]\n",
    "    h = torch.tanh(emb.view(-1, 10) @ W1 + b1)\n",
    "    logits = h @ W2 + b2\n",
    "    loss = F.cross_entropy(logits, ys[idx])\n",
    "    if step % 100 == 0:\n",
    "        print(f\"Step: {step}/{steps}, loss: {loss.item()}\")\n",
    "\n",
    "    # Backward Pass\n",
    "    for p in parameters:\n",
    "        p.grad = None\n",
    "    loss.backward()\n",
    "    with torch.no_grad():\n",
    "        for p in parameters:\n",
    "            p += -0.1 * p.grad"
   ]
  },
  {
   "cell_type": "code",
   "execution_count": 28,
   "id": "c01079b2",
   "metadata": {},
   "outputs": [
    {
     "data": {
      "text/plain": [
       "torch.return_types.max(\n",
       "values=tensor([1.7934, 3.4503, 0.5628, 0.5628, 0.5628, 3.3070, 0.5628, 1.8333, 3.2334,\n",
       "        2.2058, 1.1458, 0.3604, 2.4072, 2.4955, 0.5962, 0.1966, 0.2286, 2.8110,\n",
       "        3.3311, 2.4573, 0.5628, 1.3727, 2.7784, 3.1037, 1.0380, 0.5628, 1.9523,\n",
       "        1.6512, 0.5628, 1.9523, 0.5628, 0.5628], grad_fn=<MaxBackward0>),\n",
       "indices=tensor([ 0,  0, 19, 19, 19,  0, 19,  1,  0,  1,  1, 18, 19, 14, 18, 25,  1,  1,\n",
       "         0,  1, 19, 15,  1,  0,  1, 19,  1,  1, 19,  1, 19, 19]))"
      ]
     },
     "execution_count": 28,
     "metadata": {},
     "output_type": "execute_result"
    }
   ],
   "source": [
    "# Prediction\n",
    "logits.max(dim=1)"
   ]
  },
  {
   "cell_type": "code",
   "execution_count": 29,
   "id": "d8e124f4",
   "metadata": {},
   "outputs": [
    {
     "data": {
      "text/plain": [
       "tensor([18,  0, 11, 14, 22,  5, 11,  1,  0,  5, 18, 14, 14,  8, 12, 13, 14, 15,\n",
       "         0,  1, 19,  1,  1, 14, 14,  3,  1, 18,  3,  1, 20,  5])"
      ]
     },
     "execution_count": 29,
     "metadata": {},
     "output_type": "execute_result"
    }
   ],
   "source": [
    "# Label\n",
    "ys[idx]"
   ]
  },
  {
   "cell_type": "code",
   "execution_count": 30,
   "id": "8e9a1713",
   "metadata": {},
   "outputs": [
    {
     "data": {
      "text/plain": [
       "tensor(2.6527, grad_fn=<NllLossBackward0>)"
      ]
     },
     "execution_count": 30,
     "metadata": {},
     "output_type": "execute_result"
    }
   ],
   "source": [
    "# Loss over all samples\n",
    "emb = C[xs]\n",
    "h = torch.tanh(emb.view(-1, 10) @ W1 + b1)\n",
    "logits = h @ W2 + b2\n",
    "loss = F.cross_entropy(logits, ys)\n",
    "loss"
   ]
  },
  {
   "cell_type": "markdown",
   "id": "00f8d1f1",
   "metadata": {},
   "source": [
    "## Loss decrease slow\n",
    "Find a better learning rate"
   ]
  },
  {
   "cell_type": "code",
   "execution_count": 31,
   "id": "5da6b297",
   "metadata": {},
   "outputs": [
    {
     "data": {
      "text/plain": [
       "[<matplotlib.lines.Line2D at 0x20bd05984c8>]"
      ]
     },
     "execution_count": 31,
     "metadata": {},
     "output_type": "execute_result"
    },
    {
     "data": {
      "image/png": "[encoded data removed]",
      "text/plain": [
       "<Figure size 640x480 with 1 Axes>"
      ]
     },
     "metadata": {},
     "output_type": "display_data"
    }
   ],
   "source": [
    "import matplotlib.pyplot as plt\n",
    "plt.plot(torch.arange(1000), torch.linspace(0.001, 1, 1000))"
   ]
  },
  {
   "cell_type": "code",
   "execution_count": 32,
   "id": "2fe86ed6",
   "metadata": {},
   "outputs": [
    {
     "data": {
      "text/plain": [
       "[<matplotlib.lines.Line2D at 0x20bd2758f48>]"
      ]
     },
     "execution_count": 32,
     "metadata": {},
     "output_type": "execute_result"
    },
    {
     "data": {
      "image/png": "[encoded data removed]",
      "text/plain": [
       "<Figure size 640x480 with 1 Axes>"
      ]
     },
     "metadata": {},
     "output_type": "display_data"
    }
   ],
   "source": [
    "plt.plot(torch.arange(1000), 10 ** torch.linspace(-3, 0, 1000))"
   ]
  },
  {
   "cell_type": "code",
   "execution_count": 37,
   "id": "2ad30681",
   "metadata": {},
   "outputs": [],
   "source": [
    "import math\n",
    "steps = 1000\n",
    "lre = torch.linspace(-3, 0, 1000)\n",
    "lrs = 10 **lre\n",
    "lri = []\n",
    "lossi = []\n",
    "\n",
    "for step in range(steps):\n",
    "    # Minibatch construct\n",
    "    # Randomly sample from xs\n",
    "    # Sample 32 samples from all xs indices\n",
    "    idx = torch.randint(0, xs.shape[0], (32,))\n",
    "    \n",
    "    # Fordward Pass\n",
    "    emb = C[xs[idx]]\n",
    "    h = torch.tanh(emb.view(-1, 10) @ W1 + b1)\n",
    "    logits = h @ W2 + b2\n",
    "    loss = F.cross_entropy(logits, ys[idx])\n",
    "#     if step % 100 == 0:\n",
    "#         print(f\"Step: {step}/{steps}, loss: {loss.item()}\")\n",
    "    \n",
    "    lr = lrs[step]\n",
    "    lri.append(math.log(lr,10))\n",
    "    lossi.append(loss.item())\n",
    "    # Backward Pass\n",
    "    for p in parameters:\n",
    "        p.grad = None\n",
    "    loss.backward()\n",
    "    with torch.no_grad():\n",
    "        for p in parameters:\n",
    "            p += -0.01 * p.grad"
   ]
  },
  {
   "cell_type": "code",
   "execution_count": 38,
   "id": "14c3ac7a",
   "metadata": {},
   "outputs": [
    {
     "data": {
      "text/plain": [
       "tensor(2.4554, grad_fn=<NllLossBackward0>)"
      ]
     },
     "execution_count": 38,
     "metadata": {},
     "output_type": "execute_result"
    }
   ],
   "source": [
    "# Loss over all samples\n",
    "emb = C[xs]\n",
    "h = torch.tanh(emb.view(-1, 10) @ W1 + b1)\n",
    "logits = h @ W2 + b2\n",
    "loss = F.cross_entropy(logits, ys)\n",
    "loss"
   ]
  },
  {
   "cell_type": "code",
   "execution_count": 39,
   "id": "8d2af65b",
   "metadata": {},
   "outputs": [
    {
     "data": {
      "text/plain": [
       "[<matplotlib.lines.Line2D at 0x20bcf520588>]"
      ]
     },
     "execution_count": 39,
     "metadata": {},
     "output_type": "execute_result"
    },
    {
     "data": {
      "image/png": "[encoded data removed]",
      "text/plain": [
       "<Figure size 640x480 with 1 Axes>"
      ]
     },
     "metadata": {},
     "output_type": "display_data"
    }
   ],
   "source": [
    "# Then pick lr = 10 ** -1.0\n",
    "plt.plot(lri, lossi)"
   ]
  },
  {
   "cell_type": "markdown",
   "id": "80a6d1d6",
   "metadata": {},
   "source": [
    "## Better evaluation\n",
    "Train 80%, Validation 10%, Test 10%"
   ]
  },
  {
   "cell_type": "code",
   "execution_count": 45,
   "id": "23d97082",
   "metadata": {},
   "outputs": [
    {
     "name": "stdout",
     "output_type": "stream",
     "text": [
      "Training names: 25626, Validation names: 3203, Test names: 3204\n",
      "--------------Training sample with context----------\n",
      "torch.Size([182580, 3]) torch.Size([182580])\n",
      "--------------Validation sample with context----------\n",
      "torch.Size([22767, 3]) torch.Size([22767])\n",
      "--------------Test sample with context----------\n",
      "torch.Size([22799, 3]) torch.Size([22799])\n"
     ]
    }
   ],
   "source": [
    "import random\n",
    "def build_dataset(words):\n",
    "    block_size = 3 # context length\n",
    "    xs, ys = [], []\n",
    "\n",
    "    for word in words:\n",
    "        context = [0] * block_size\n",
    "        for ch in word+\".\":\n",
    "            idx = stoi[ch]\n",
    "            xs.append(context)\n",
    "            ys.append(idx)\n",
    "            context = context[1:] + [idx]\n",
    "    xs, ys = torch.tensor(xs), torch.tensor(ys)\n",
    "    print(xs.shape, ys.shape)\n",
    "    return xs, ys\n",
    "\n",
    "random.seed(42)\n",
    "random.shuffle(names)\n",
    "train_idx = int(0.8 * len(names))\n",
    "val_idx = int(0.9 * len(names))\n",
    "print(f\"Training names: {train_idx}, Validation names: {val_idx-train_idx}, Test names: {len(names)-val_idx}\")\n",
    "\n",
    "print(\"--------------Training sample with context----------\")\n",
    "x_train, y_train = build_dataset(names[:train_idx])\n",
    "print(\"--------------Validation sample with context----------\")\n",
    "x_val, y_val = build_dataset(names[train_idx:val_idx])\n",
    "print(\"--------------Test sample with context----------\")\n",
    "x_test, y_test = build_dataset(names[val_idx:])"
   ]
  },
  {
   "cell_type": "markdown",
   "id": "e3130753",
   "metadata": {},
   "source": [
    "* Solve Underfitting with wider hidden layer\n",
    "* Larger embedding"
   ]
  },
  {
   "cell_type": "code",
   "execution_count": 46,
   "id": "71be635a",
   "metadata": {},
   "outputs": [],
   "source": [
    "g = torch.Generator().manual_seed(2147483647)\n",
    "C = torch.randn([27, 10], generator=g) # 32x3x27 * 27* 10 => 32x3x10\n",
    "W1 = torch.randn([30, 200], generator=g) # Larger embedding and wider hidden layer\n",
    "b1 = torch.randn(200, generator=g)\n",
    "W2 = torch.randn([200, 27], generator=g)\n",
    "b2 = torch.randn(27, generator=g)\n",
    "parameters = [C, W1, b1, W2, b2]\n",
    "for p in parameters:\n",
    "    p.requires_grad = True"
   ]
  },
  {
   "cell_type": "code",
   "execution_count": 47,
   "id": "e246151e",
   "metadata": {},
   "outputs": [],
   "source": [
    "import math\n",
    "steps = 200000\n",
    "\n",
    "for step in range(steps):\n",
    "    idx = torch.randint(0, x_train.shape[0], (32,))\n",
    "    \n",
    "    # Fordward Pass\n",
    "    emb = C[x_train[idx]]\n",
    "    h = torch.tanh(emb.view(-1, 30) @ W1 + b1)\n",
    "    logits = h @ W2 + b2\n",
    "    loss = F.cross_entropy(logits, y_train[idx])\n",
    "    \n",
    "    lr = 0.1 if step < 100000 else 0.01\n",
    "    # Backward Pass\n",
    "    for p in parameters:\n",
    "        p.grad = None\n",
    "    loss.backward()\n",
    "    with torch.no_grad():\n",
    "        for p in parameters:\n",
    "            p += -lr * p.grad"
   ]
  },
  {
   "cell_type": "code",
   "execution_count": 49,
   "id": "7ef6529c",
   "metadata": {},
   "outputs": [
    {
     "data": {
      "text/plain": [
       "tensor(2.1188, grad_fn=<NllLossBackward0>)"
      ]
     },
     "execution_count": 49,
     "metadata": {},
     "output_type": "execute_result"
    }
   ],
   "source": [
    "# Loss over all training samples\n",
    "emb = C[x_train]\n",
    "h = torch.tanh(emb.view(-1, 30) @ W1 + b1)\n",
    "logits = h @ W2 + b2\n",
    "loss = F.cross_entropy(logits, y_train)\n",
    "loss"
   ]
  },
  {
   "cell_type": "code",
   "execution_count": 50,
   "id": "cc0f9e71",
   "metadata": {},
   "outputs": [
    {
     "data": {
      "text/plain": [
       "tensor(2.1564, grad_fn=<NllLossBackward0>)"
      ]
     },
     "execution_count": 50,
     "metadata": {},
     "output_type": "execute_result"
    }
   ],
   "source": [
    "# Loss over all val samples\n",
    "emb = C[x_val]\n",
    "h = torch.tanh(emb.view(-1, 30) @ W1 + b1)\n",
    "logits = h @ W2 + b2\n",
    "loss = F.cross_entropy(logits, y_val)\n",
    "loss"
   ]
  },
  {
   "cell_type": "markdown",
   "id": "7e25216b",
   "metadata": {},
   "source": [
    "* 2.2912 for train and 2.2965 for val on 100 neurons per layer and 2 emb, 5 context\n",
    "* 2.2361 for train and 2.2514 for val on 300 neurons per layer and 2 emb, 5 context\n",
    "* 2.1860 for train and 2.2068 for val on 300 neurons per layer and 10 emb, 5 context\n",
    "* 2.1188 for train and 2.1564 for val on 200 neurons per layer and 10 emb, 3 context"
   ]
  },
  {
   "cell_type": "markdown",
   "id": "8d761595",
   "metadata": {},
   "source": [
    "## Visualize emb and scale up emb dim\n",
    "similar character will cluster together."
   ]
  },
  {
   "cell_type": "code",
   "execution_count": 51,
   "id": "792f92bf",
   "metadata": {},
   "outputs": [
    {
     "data": {
      "image/png": "[encoded data removed]",
      "text/plain": [
       "<Figure size 800x800 with 1 Axes>"
      ]
     },
     "metadata": {},
     "output_type": "display_data"
    }
   ],
   "source": [
    "plt.figure(figsize=(8,8))\n",
    "plt.scatter(C[:, 0].data, C[:, 1].data, s=200)\n",
    "for i in range(C.shape[0]):\n",
    "    plt.text(C[i, 0].item(), C[i, 1].item(), itos[i], ha=\"center\", va=\"center\", color=\"white\")\n",
    "plt.grid(\"minor\")"
   ]
  },
  {
   "cell_type": "markdown",
   "id": "f96686fa",
   "metadata": {},
   "source": [
    "# Sampling from the model"
   ]
  },
  {
   "cell_type": "code",
   "execution_count": 101,
   "id": "f05cce2f",
   "metadata": {},
   "outputs": [
    {
     "name": "stdout",
     "output_type": "stream",
     "text": [
      "carmah.\n",
      "aabylle.\n",
      "haimrighte.\n",
      "caspansh.\n",
      "esrahnen.\n",
      "den.\n",
      "rha.\n",
      "kaqui.\n",
      "ner.\n",
      "kentzeriir.\n",
      "kaleigh.\n",
      "ham.\n",
      "pristen.\n",
      "juza.\n",
      "lilea.\n",
      "jadiquintero.\n",
      "dearynix.\n",
      "kael.\n",
      "ivrathen.\n",
      "edi.\n"
     ]
    }
   ],
   "source": [
    "block_size = 3\n",
    "\n",
    "\n",
    "g = torch.Generator().manual_seed(2147483647 + 10)\n",
    "for i in range(20):\n",
    "    out = []\n",
    "    context = [0] * block_size\n",
    "    while True:\n",
    "        emb = C[torch.tensor([context])] # 3x10\n",
    "        h = torch.tanh(emb.view(1, -1)  @ W1 + b1)\n",
    "        logits = h @ W2 + b2\n",
    "\n",
    "        # Not choose by argmax\n",
    "        probs = F.softmax(logits, dim=1)\n",
    "        next_idx = torch.multinomial(probs, num_samples=1, generator=g).item()\n",
    "        context = context[1:] + [next_idx]\n",
    "        out.append(next_idx)\n",
    "        if next_idx == 0:\n",
    "            break\n",
    "    \n",
    "    print(''.join([itos[i] for i in out]))"
   ]
  }
 ],
 "metadata": {
  "kernelspec": {
   "display_name": "Python 3 (ipykernel)",
   "language": "python",
   "name": "python3"
  },
  "language_info": {
   "codemirror_mode": {
    "name": "ipython",
    "version": 3
   },
   "file_extension": ".py",
   "mimetype": "text/x-python",
   "name": "python",
   "nbconvert_exporter": "python",
   "pygments_lexer": "ipython3",
   "version": "3.7.16"
  }
 },
 "nbformat": 4,
 "nbformat_minor": 5
}
